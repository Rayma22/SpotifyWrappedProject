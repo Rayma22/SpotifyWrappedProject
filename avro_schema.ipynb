{
 "cells": [
  {
   "cell_type": "code",
   "execution_count": 10,
   "id": "a7d617c3-5815-4519-bb54-75fc63131950",
   "metadata": {},
   "outputs": [
    {
     "data": {
      "text/plain": [
       "{'type': 'record',\n",
       " 'doc': 'Spotify Wrapped Data',\n",
       " 'name': 'spotify.schema.user.simulation.acme.location',\n",
       " 'fields': [{'name': 'id_song_played', 'type': 'int'},\n",
       "  {'name': 'artist_song_played', 'type': 'string'},\n",
       "  {'name': 'song_played', 'type': 'string'},\n",
       "  {'name': 'datetime_utc', 'type': 'int'},\n",
       "  {'name': 'latitude', 'type': 'string'},\n",
       "  {'name': 'longitude', 'type': 'string'},\n",
       "  {'name': 'times_stopped', 'type': 'float'},\n",
       "  {'name': 'skipped', 'type': 'boolean'},\n",
       "  {'name': 'num_replay', 'type': 'int'},\n",
       "  {'name': 'saved', 'type': 'boolean'}],\n",
       " '__fastavro_parsed': True,\n",
       " '__named_schemas': {'spotify.schema.user.simulation.acme.location': {'type': 'record',\n",
       "   'doc': 'Spotify Wrapped Data',\n",
       "   'name': 'spotify.schema.user.simulation.acme.location',\n",
       "   'fields': [{'name': 'id_song_played', 'type': 'int'},\n",
       "    {'name': 'artist_song_played', 'type': 'string'},\n",
       "    {'name': 'song_played', 'type': 'string'},\n",
       "    {'name': 'datetime_utc', 'type': 'int'},\n",
       "    {'name': 'latitude', 'type': 'string'},\n",
       "    {'name': 'longitude', 'type': 'string'},\n",
       "    {'name': 'times_stopped', 'type': 'float'},\n",
       "    {'name': 'skipped', 'type': 'boolean'},\n",
       "    {'name': 'num_replay', 'type': 'int'},\n",
       "    {'name': 'saved', 'type': 'boolean'}]}}}"
      ]
     },
     "execution_count": 10,
     "metadata": {},
     "output_type": "execute_result"
    }
   ],
   "source": [
    "from fastavro import parse_schema\n",
    "\n",
    "\n",
    "schema_ind = {\n",
    "    'doc': 'Spotify Wrapped Data',\n",
    "    'name': 'location',\n",
    "    'namespace': 'spotify.schema.user.simulation.acme',\n",
    "    'type': 'record',\n",
    "    'fields': [\n",
    "        {'name': 'id_song_played', 'type': 'int'},\n",
    "        {'name': 'artist_song_played', 'type': 'string'},\n",
    "        {'name': 'song_played', 'type': 'string'},\n",
    "        {'name': 'datetime_utc', 'type': 'int'},\n",
    "        {'name': 'latitude', 'type': 'string' },\n",
    "        {'name': 'longitude', 'type': 'string' },\n",
    "        {'name': 'times_stopped', 'type': 'float'},\n",
    "        {'name': 'skipped', 'type': 'boolean'},\n",
    "        {'name': 'num_replay', 'type': 'int'},\n",
    "        {'name': 'saved', 'type': 'boolean'},\n",
    "        #{'name': 'time_started', 'type': 'boolean'},\n",
    "        #{'name': 'time_ended', 'type': 'boolean'}\n",
    "    ],\n",
    "}\n",
    "\n",
    "parsed_schema_ind = parse_schema(schema_ind)\n",
    "\n",
    "parsed_schema_ind"
   ]
  },
  {
   "cell_type": "markdown",
   "id": "bbe43af0-19d0-49d4-ab3e-0acd9333479a",
   "metadata": {},
   "source": [
    "getting the tracks data "
   ]
  },
  {
   "cell_type": "code",
   "execution_count": 6,
   "id": "0cacf693-90b8-41fd-ae1e-b36ba47033c1",
   "metadata": {},
   "outputs": [],
   "source": [
    "import pandas as pd\n",
    "csv_file_path = 'tracks.csv'\n",
    "\n",
    "# Read the CSV file into a DataFrame\n",
    "songs_spotify = pd.read_csv(csv_file_path)"
   ]
  },
  {
   "cell_type": "code",
   "execution_count": 9,
   "id": "b58eeded-ac63-4cc1-9cd4-38530f80d32e",
   "metadata": {},
   "outputs": [
    {
     "data": {
      "text/plain": [
       "586672"
      ]
     },
     "execution_count": 9,
     "metadata": {},
     "output_type": "execute_result"
    }
   ],
   "source": [
    "len(songs_spotify)"
   ]
  },
  {
   "cell_type": "code",
   "execution_count": 7,
   "id": "3df51352-d052-420c-b4c2-d6e62220b37e",
   "metadata": {},
   "outputs": [
    {
     "data": {
      "text/html": [
       "<div>\n",
       "<style scoped>\n",
       "    .dataframe tbody tr th:only-of-type {\n",
       "        vertical-align: middle;\n",
       "    }\n",
       "\n",
       "    .dataframe tbody tr th {\n",
       "        vertical-align: top;\n",
       "    }\n",
       "\n",
       "    .dataframe thead th {\n",
       "        text-align: right;\n",
       "    }\n",
       "</style>\n",
       "<table border=\"1\" class=\"dataframe\">\n",
       "  <thead>\n",
       "    <tr style=\"text-align: right;\">\n",
       "      <th></th>\n",
       "      <th>id</th>\n",
       "      <th>name</th>\n",
       "      <th>popularity</th>\n",
       "      <th>duration_ms</th>\n",
       "      <th>explicit</th>\n",
       "      <th>artists</th>\n",
       "      <th>id_artists</th>\n",
       "      <th>release_date</th>\n",
       "      <th>danceability</th>\n",
       "      <th>energy</th>\n",
       "      <th>key</th>\n",
       "      <th>loudness</th>\n",
       "      <th>mode</th>\n",
       "      <th>speechiness</th>\n",
       "      <th>acousticness</th>\n",
       "      <th>instrumentalness</th>\n",
       "      <th>liveness</th>\n",
       "      <th>valence</th>\n",
       "      <th>tempo</th>\n",
       "      <th>time_signature</th>\n",
       "    </tr>\n",
       "  </thead>\n",
       "  <tbody>\n",
       "    <tr>\n",
       "      <th>0</th>\n",
       "      <td>35iwgR4jXetI318WEWsa1Q</td>\n",
       "      <td>Carve</td>\n",
       "      <td>6</td>\n",
       "      <td>126903</td>\n",
       "      <td>0</td>\n",
       "      <td>['Uli']</td>\n",
       "      <td>['45tIt06XoI0Iio4LBEVpls']</td>\n",
       "      <td>1922-02-22</td>\n",
       "      <td>0.645</td>\n",
       "      <td>0.4450</td>\n",
       "      <td>0</td>\n",
       "      <td>-13.338</td>\n",
       "      <td>1</td>\n",
       "      <td>0.4510</td>\n",
       "      <td>0.674</td>\n",
       "      <td>0.7440</td>\n",
       "      <td>0.151</td>\n",
       "      <td>0.127</td>\n",
       "      <td>104.851</td>\n",
       "      <td>3</td>\n",
       "    </tr>\n",
       "    <tr>\n",
       "      <th>1</th>\n",
       "      <td>021ht4sdgPcrDgSk7JTbKY</td>\n",
       "      <td>Capítulo 2.16 - Banquero Anarquista</td>\n",
       "      <td>0</td>\n",
       "      <td>98200</td>\n",
       "      <td>0</td>\n",
       "      <td>['Fernando Pessoa']</td>\n",
       "      <td>['14jtPCOoNZwquk5wd9DxrY']</td>\n",
       "      <td>1922-06-01</td>\n",
       "      <td>0.695</td>\n",
       "      <td>0.2630</td>\n",
       "      <td>0</td>\n",
       "      <td>-22.136</td>\n",
       "      <td>1</td>\n",
       "      <td>0.9570</td>\n",
       "      <td>0.797</td>\n",
       "      <td>0.0000</td>\n",
       "      <td>0.148</td>\n",
       "      <td>0.655</td>\n",
       "      <td>102.009</td>\n",
       "      <td>1</td>\n",
       "    </tr>\n",
       "    <tr>\n",
       "      <th>2</th>\n",
       "      <td>07A5yehtSnoedViJAZkNnc</td>\n",
       "      <td>Vivo para Quererte - Remasterizado</td>\n",
       "      <td>0</td>\n",
       "      <td>181640</td>\n",
       "      <td>0</td>\n",
       "      <td>['Ignacio Corsini']</td>\n",
       "      <td>['5LiOoJbxVSAMkBS2fUm3X2']</td>\n",
       "      <td>1922-03-21</td>\n",
       "      <td>0.434</td>\n",
       "      <td>0.1770</td>\n",
       "      <td>1</td>\n",
       "      <td>-21.180</td>\n",
       "      <td>1</td>\n",
       "      <td>0.0512</td>\n",
       "      <td>0.994</td>\n",
       "      <td>0.0218</td>\n",
       "      <td>0.212</td>\n",
       "      <td>0.457</td>\n",
       "      <td>130.418</td>\n",
       "      <td>5</td>\n",
       "    </tr>\n",
       "    <tr>\n",
       "      <th>3</th>\n",
       "      <td>08FmqUhxtyLTn6pAh6bk45</td>\n",
       "      <td>El Prisionero - Remasterizado</td>\n",
       "      <td>0</td>\n",
       "      <td>176907</td>\n",
       "      <td>0</td>\n",
       "      <td>['Ignacio Corsini']</td>\n",
       "      <td>['5LiOoJbxVSAMkBS2fUm3X2']</td>\n",
       "      <td>1922-03-21</td>\n",
       "      <td>0.321</td>\n",
       "      <td>0.0946</td>\n",
       "      <td>7</td>\n",
       "      <td>-27.961</td>\n",
       "      <td>1</td>\n",
       "      <td>0.0504</td>\n",
       "      <td>0.995</td>\n",
       "      <td>0.9180</td>\n",
       "      <td>0.104</td>\n",
       "      <td>0.397</td>\n",
       "      <td>169.980</td>\n",
       "      <td>3</td>\n",
       "    </tr>\n",
       "    <tr>\n",
       "      <th>4</th>\n",
       "      <td>08y9GfoqCWfOGsKdwojr5e</td>\n",
       "      <td>Lady of the Evening</td>\n",
       "      <td>0</td>\n",
       "      <td>163080</td>\n",
       "      <td>0</td>\n",
       "      <td>['Dick Haymes']</td>\n",
       "      <td>['3BiJGZsyX9sJchTqcSA7Su']</td>\n",
       "      <td>1922</td>\n",
       "      <td>0.402</td>\n",
       "      <td>0.1580</td>\n",
       "      <td>3</td>\n",
       "      <td>-16.900</td>\n",
       "      <td>0</td>\n",
       "      <td>0.0390</td>\n",
       "      <td>0.989</td>\n",
       "      <td>0.1300</td>\n",
       "      <td>0.311</td>\n",
       "      <td>0.196</td>\n",
       "      <td>103.220</td>\n",
       "      <td>4</td>\n",
       "    </tr>\n",
       "  </tbody>\n",
       "</table>\n",
       "</div>"
      ],
      "text/plain": [
       "                       id                                 name  popularity  \\\n",
       "0  35iwgR4jXetI318WEWsa1Q                                Carve           6   \n",
       "1  021ht4sdgPcrDgSk7JTbKY  Capítulo 2.16 - Banquero Anarquista           0   \n",
       "2  07A5yehtSnoedViJAZkNnc   Vivo para Quererte - Remasterizado           0   \n",
       "3  08FmqUhxtyLTn6pAh6bk45        El Prisionero - Remasterizado           0   \n",
       "4  08y9GfoqCWfOGsKdwojr5e                  Lady of the Evening           0   \n",
       "\n",
       "   duration_ms  explicit              artists                  id_artists  \\\n",
       "0       126903         0              ['Uli']  ['45tIt06XoI0Iio4LBEVpls']   \n",
       "1        98200         0  ['Fernando Pessoa']  ['14jtPCOoNZwquk5wd9DxrY']   \n",
       "2       181640         0  ['Ignacio Corsini']  ['5LiOoJbxVSAMkBS2fUm3X2']   \n",
       "3       176907         0  ['Ignacio Corsini']  ['5LiOoJbxVSAMkBS2fUm3X2']   \n",
       "4       163080         0      ['Dick Haymes']  ['3BiJGZsyX9sJchTqcSA7Su']   \n",
       "\n",
       "  release_date  danceability  energy  key  loudness  mode  speechiness  \\\n",
       "0   1922-02-22         0.645  0.4450    0   -13.338     1       0.4510   \n",
       "1   1922-06-01         0.695  0.2630    0   -22.136     1       0.9570   \n",
       "2   1922-03-21         0.434  0.1770    1   -21.180     1       0.0512   \n",
       "3   1922-03-21         0.321  0.0946    7   -27.961     1       0.0504   \n",
       "4         1922         0.402  0.1580    3   -16.900     0       0.0390   \n",
       "\n",
       "   acousticness  instrumentalness  liveness  valence    tempo  time_signature  \n",
       "0         0.674            0.7440     0.151    0.127  104.851               3  \n",
       "1         0.797            0.0000     0.148    0.655  102.009               1  \n",
       "2         0.994            0.0218     0.212    0.457  130.418               5  \n",
       "3         0.995            0.9180     0.104    0.397  169.980               3  \n",
       "4         0.989            0.1300     0.311    0.196  103.220               4  "
      ]
     },
     "execution_count": 7,
     "metadata": {},
     "output_type": "execute_result"
    }
   ],
   "source": [
    "songs_spotify.head(5)"
   ]
  },
  {
   "cell_type": "markdown",
   "id": "1d1983a9-de03-459d-a5b6-2bcfc66f285c",
   "metadata": {},
   "source": [
    "simulating a single user "
   ]
  },
  {
   "cell_type": "code",
   "execution_count": 11,
   "id": "dec52fd5-807a-4554-8bb7-d452aa309ded",
   "metadata": {},
   "outputs": [
    {
     "name": "stdout",
     "output_type": "stream",
     "text": [
      "CPU times: user 51.5 ms, sys: 37.6 ms, total: 89.1 ms\n",
      "Wall time: 106 ms\n"
     ]
    },
    {
     "data": {
      "text/plain": [
       "80"
      ]
     },
     "execution_count": 11,
     "metadata": {},
     "output_type": "execute_result"
    }
   ],
   "source": [
    "%%time\n",
    "import uuid\n",
    "import datetime\n",
    "import random\n",
    "from faker import Faker\n",
    "fake = Faker()\n",
    "# Faker.seed(2000) # Use only to generate the same data set\n",
    "\n",
    "\n",
    "def location_record(listen_songs):\n",
    "    \n",
    "    index_song_data = fake.pyint(min_value=0, max_value=len(songs_spotify)-1, step=1)\n",
    "    \n",
    "    record_ind = {\n",
    "        u'id_song_played': songs_spotify[\"id\"].loc[index_song_data],\n",
    "        u'song_played': songs_spotify[\"name\"].loc[index_song_data],\n",
    "        u'artist_song_played': songs_spotify[\"artists\"].loc[index_song_data],\n",
    "        u'datetime_utc': datetime.datetime.utcnow().timestamp(),\n",
    "        u'latitude': float(fake.latitude()),\n",
    "        u'longitude': float(fake.longitude()),\n",
    "        u'times_stopped': fake.pyint(min_value=0, max_value=10, step=1),\n",
    "        u'skipped': random.choice([True, False]),\n",
    "        u'num_replay': fake.pyint(min_value=0, max_value=10, step=1),\n",
    "        u'saved':  random.choice([True, False]),\n",
    "    }\n",
    "    \n",
    "    return record_ind\n",
    "\n",
    "# Assuming location_record takes a person ID as an argument\n",
    "person_id = fake.pyint(min_value=12904, max_value=78672, step=1)\n",
    "records_ind = [location_record(person_id) for _ in range(20, 100)]\n",
    "\n",
    "\n",
    "len(records_ind)"
   ]
  },
  {
   "cell_type": "code",
   "execution_count": 12,
   "id": "4502110f-d3f2-4819-8923-6ed42ec27974",
   "metadata": {},
   "outputs": [
    {
     "data": {
      "text/plain": [
       "[{'id_song_played': '0cDwUAF7yQrOLRcFfJpSc2',\n",
       "  'song_played': 'Zero - From the Original Motion Picture \"Ralph Breaks The Internet\"',\n",
       "  'artist_song_played': \"['Imagine Dragons']\",\n",
       "  'datetime_utc': 1707153656.412126,\n",
       "  'latitude': 41.4565095,\n",
       "  'longitude': 116.006399,\n",
       "  'times_stopped': 9,\n",
       "  'skipped': False,\n",
       "  'num_replay': 4,\n",
       "  'saved': False},\n",
       " {'id_song_played': '1mfCw5SzZUUxxFOtAEola7',\n",
       "  'song_played': 'Animal Language',\n",
       "  'artist_song_played': \"['Lou Reed']\",\n",
       "  'datetime_utc': 1707153656.412248,\n",
       "  'latitude': -88.3649415,\n",
       "  'longitude': 49.278496,\n",
       "  'times_stopped': 6,\n",
       "  'skipped': True,\n",
       "  'num_replay': 4,\n",
       "  'saved': True},\n",
       " {'id_song_played': '5BycxINAF86MFwt4cQ2Apz',\n",
       "  'song_played': 'Four Russian Songs for Voice, Flute, Harp and Guitar: III. Geese and Swans',\n",
       "  'artist_song_played': \"['Igor Stravinsky', 'Adrienne Albert', 'Robert Craft']\",\n",
       "  'datetime_utc': 1707153656.412331,\n",
       "  'latitude': -74.1233935,\n",
       "  'longitude': -73.287206,\n",
       "  'times_stopped': 9,\n",
       "  'skipped': False,\n",
       "  'num_replay': 0,\n",
       "  'saved': False}]"
      ]
     },
     "execution_count": 12,
     "metadata": {},
     "output_type": "execute_result"
    }
   ],
   "source": [
    "top_3_records_generated = records_ind[0:3]\n",
    "top_3_records_generated"
   ]
  },
  {
   "cell_type": "code",
   "execution_count": 13,
   "id": "2801d8bf-fcb0-45cf-a4a6-6524e2072174",
   "metadata": {},
   "outputs": [
    {
     "data": {
      "text/plain": [
       "{'type': 'record',\n",
       " 'doc': 'Spotify Wrapped Data',\n",
       " 'name': 'spotify.schema.user.simulation.acme.location',\n",
       " 'fields': [{'name': 'id_user', 'type': 'int'},\n",
       "  {'name': 'id_song_played', 'type': 'int'},\n",
       "  {'name': 'artist_song_played', 'type': 'string'},\n",
       "  {'name': 'song_played', 'type': 'string'},\n",
       "  {'name': 'datetime_utc', 'type': 'int'},\n",
       "  {'name': 'latitude', 'type': 'string'},\n",
       "  {'name': 'longitude', 'type': 'string'},\n",
       "  {'name': 'times_stopped', 'type': 'float'},\n",
       "  {'name': 'skipped', 'type': 'boolean'},\n",
       "  {'name': 'num_replay', 'type': 'int'},\n",
       "  {'name': 'saved', 'type': 'boolean'}],\n",
       " '__fastavro_parsed': True,\n",
       " '__named_schemas': {'spotify.schema.user.simulation.acme.location': {'type': 'record',\n",
       "   'doc': 'Spotify Wrapped Data',\n",
       "   'name': 'spotify.schema.user.simulation.acme.location',\n",
       "   'fields': [{'name': 'id_user', 'type': 'int'},\n",
       "    {'name': 'id_song_played', 'type': 'int'},\n",
       "    {'name': 'artist_song_played', 'type': 'string'},\n",
       "    {'name': 'song_played', 'type': 'string'},\n",
       "    {'name': 'datetime_utc', 'type': 'int'},\n",
       "    {'name': 'latitude', 'type': 'string'},\n",
       "    {'name': 'longitude', 'type': 'string'},\n",
       "    {'name': 'times_stopped', 'type': 'float'},\n",
       "    {'name': 'skipped', 'type': 'boolean'},\n",
       "    {'name': 'num_replay', 'type': 'int'},\n",
       "    {'name': 'saved', 'type': 'boolean'}]}}}"
      ]
     },
     "execution_count": 13,
     "metadata": {},
     "output_type": "execute_result"
    }
   ],
   "source": [
    "from fastavro import parse_schema\n",
    "\n",
    "\n",
    "schema_group = {\n",
    "    'doc': 'Spotify Wrapped Data',\n",
    "    'name': 'location',\n",
    "    'namespace': 'spotify.schema.user.simulation.acme',\n",
    "    'type': 'record',\n",
    "    'fields': [\n",
    "        {'name': 'id_user', 'type': 'int'},\n",
    "        {'name': 'id_song_played', 'type': 'int'},\n",
    "        {'name': 'artist_song_played', 'type': 'string'},\n",
    "        {'name': 'song_played', 'type': 'string'},\n",
    "        {'name': 'datetime_utc', 'type': 'int'},\n",
    "        {'name': 'latitude', 'type': 'string' },\n",
    "        {'name': 'longitude', 'type': 'string' },\n",
    "        {'name': 'times_stopped', 'type': 'float'},\n",
    "        {'name': 'skipped', 'type': 'boolean'},\n",
    "        {'name': 'num_replay', 'type': 'int'},\n",
    "        {'name': 'saved', 'type': 'boolean'},\n",
    "        #{'name': 'time_started', 'type': 'boolean'},\n",
    "        #{'name': 'time_ended', 'type': 'boolean'}\n",
    "    ],\n",
    "}\n",
    "\n",
    "parsed_schema_group = parse_schema(schema_group)\n",
    "\n",
    "parsed_schema_group"
   ]
  },
  {
   "cell_type": "markdown",
   "id": "1c3cc47f-3859-4417-86ad-1c8635718f2d",
   "metadata": {
    "tags": []
   },
   "source": [
    "for the group simulation"
   ]
  },
  {
   "cell_type": "code",
   "execution_count": 20,
   "id": "f9f7032c-d37a-4d5f-97db-b9bb4da8ad6a",
   "metadata": {},
   "outputs": [
    {
     "name": "stdout",
     "output_type": "stream",
     "text": [
      "CPU times: user 1min 4s, sys: 415 ms, total: 1min 4s\n",
      "Wall time: 1min 4s\n"
     ]
    },
    {
     "data": {
      "text/plain": [
       "940000"
      ]
     },
     "execution_count": 20,
     "metadata": {},
     "output_type": "execute_result"
    }
   ],
   "source": [
    "%%time\n",
    "import uuid\n",
    "import datetime\n",
    "import random\n",
    "from faker import Faker\n",
    "fake = Faker()\n",
    "# Faker.seed(2000) # Use only to generate the same data set\n",
    "\n",
    "\n",
    "def location_record_group(user_id):\n",
    "    \n",
    "    index_song_data = fake.pyint(min_value=0, max_value=len(songs_spotify)-1, step=1)\n",
    "    \n",
    "    record_group = {\n",
    "        u'id_user': user_id,\n",
    "        u'id_song_played': songs_spotify[\"id\"].loc[index_song_data],\n",
    "        u'song_played': songs_spotify[\"name\"].loc[index_song_data],\n",
    "        u'artist_song_played': songs_spotify[\"artists\"].loc[index_song_data],\n",
    "        u'datetime_utc': datetime.datetime.utcnow().timestamp(),\n",
    "        u'latitude': float(fake.latitude()),\n",
    "        u'longitude': float(fake.longitude()),\n",
    "        u'times_stopped': fake.pyint(min_value=0, max_value=10, step=1),\n",
    "        u'skipped': random.choice([True, False]),\n",
    "        u'num_replay': fake.pyint(min_value=0, max_value=10, step=1),\n",
    "        u'saved':  random.choice([True, False]),\n",
    "    }\n",
    "    \n",
    "    return record_group\n",
    "\n",
    "listen_songs_group =[{ 'user_id': str(uuid.uuid1()), 'num_songs': random.randint(1, 20)} for _ in range(0,10000) ]\n",
    "records_group = [ location_record_group(user['user_id']) for _ in range(0, random.randint(1,100)) for user in listen_songs_group ]\n",
    "\n",
    "len(records_group)"
   ]
  },
  {
   "cell_type": "code",
   "execution_count": null,
   "id": "fdcb0686-06c2-4e4e-9ff9-97860775ae22",
   "metadata": {},
   "outputs": [],
   "source": [
    "top_3_records_generated = records_ind[0:3]\n",
    "top_3_records_generated"
   ]
  }
 ],
 "metadata": {
  "kernelspec": {
   "display_name": "Python 3 (ipykernel)",
   "language": "python",
   "name": "python3"
  },
  "language_info": {
   "codemirror_mode": {
    "name": "ipython",
    "version": 3
   },
   "file_extension": ".py",
   "mimetype": "text/x-python",
   "name": "python",
   "nbconvert_exporter": "python",
   "pygments_lexer": "ipython3",
   "version": "3.8.12"
  }
 },
 "nbformat": 4,
 "nbformat_minor": 5
}
