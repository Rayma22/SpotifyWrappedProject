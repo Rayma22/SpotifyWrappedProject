{
 "cells": [
  {
   "cell_type": "markdown",
   "id": "2098bbb8-8014-42f3-8a67-96e071c55b1c",
   "metadata": {},
   "source": [
    "Library Import"
   ]
  },
  {
   "cell_type": "code",
   "execution_count": 30,
   "id": "84af0a69-6ac8-469a-aa31-d1bce750ad12",
   "metadata": {},
   "outputs": [],
   "source": [
    "from fastavro import parse_schema\n",
    "import pandas as pd\n",
    "import uuid\n",
    "from datetime import datetime, timedelta, timezone\n",
    "import random\n",
    "from faker import Faker\n",
    "from timezonefinder import TimezoneFinder\n",
    "import pytz"
   ]
  },
  {
   "cell_type": "code",
   "execution_count": 6,
   "id": "9ac44d55-6dee-401a-8164-1552f2f5b44f",
   "metadata": {},
   "outputs": [],
   "source": [
    "fake = Faker()"
   ]
  },
  {
   "cell_type": "code",
   "execution_count": 14,
   "id": "fcc01b8a-432e-4aed-aa52-08085884052c",
   "metadata": {},
   "outputs": [],
   "source": [
    "songs_spotify = pd.read_csv('tracks.csv')"
   ]
  },
  {
   "cell_type": "markdown",
   "id": "a12a2167-aea2-4f99-95d3-c4cbaf831059",
   "metadata": {},
   "source": [
    "Schema"
   ]
  },
  {
   "cell_type": "code",
   "execution_count": 35,
   "id": "42ec5349-08b0-487f-bdf1-d3b45bea8b47",
   "metadata": {},
   "outputs": [
    {
     "data": {
      "text/plain": [
       "{'type': 'record',\n",
       " 'doc': 'Spotify Wrapped Data',\n",
       " 'name': 'spotify.schema.user.simulation.song_played',\n",
       " 'fields': [{'name': 'user_id', 'type': 'int'},\n",
       "  {'name': 'id_song_played', 'type': 'string'},\n",
       "  {'name': 'song_played', 'type': 'string'},\n",
       "  {'name': 'artist_song_played', 'type': 'string'},\n",
       "  {'name': 'timezone', 'type': 'string'},\n",
       "  {'name': 'latitude', 'type': 'float'},\n",
       "  {'name': 'longitude', 'type': 'float'},\n",
       "  {'name': 'saved', 'type': 'boolean'},\n",
       "  {'name': 'time_started', 'type': 'int'},\n",
       "  {'name': 'time_ended', 'type': 'int'}],\n",
       " '__fastavro_parsed': True,\n",
       " '__named_schemas': {'spotify.schema.user.simulation.song_played': {'type': 'record',\n",
       "   'doc': 'Spotify Wrapped Data',\n",
       "   'name': 'spotify.schema.user.simulation.song_played',\n",
       "   'fields': [{'name': 'user_id', 'type': 'int'},\n",
       "    {'name': 'id_song_played', 'type': 'string'},\n",
       "    {'name': 'song_played', 'type': 'string'},\n",
       "    {'name': 'artist_song_played', 'type': 'string'},\n",
       "    {'name': 'timezone', 'type': 'string'},\n",
       "    {'name': 'latitude', 'type': 'float'},\n",
       "    {'name': 'longitude', 'type': 'float'},\n",
       "    {'name': 'saved', 'type': 'boolean'},\n",
       "    {'name': 'time_started', 'type': 'int'},\n",
       "    {'name': 'time_ended', 'type': 'int'}]}}}"
      ]
     },
     "execution_count": 35,
     "metadata": {},
     "output_type": "execute_result"
    }
   ],
   "source": [
    "schema_ind = {\n",
    "    'doc': 'Spotify Wrapped Data',\n",
    "    'name': 'song_played',\n",
    "    'namespace': 'spotify.schema.user.simulation',\n",
    "    'type': 'record',\n",
    "    'fields': [\n",
    "        {'name': 'user_id', 'type': 'int'},\n",
    "        {'name': 'id_song_played', 'type': 'string'},\n",
    "        {'name': 'song_played', 'type': 'string'},\n",
    "        {'name': 'artist_song_played', 'type': 'string'},\n",
    "        {'name': 'timezone', 'type': 'string'},\n",
    "        {'name': 'latitude', 'type': 'float' },\n",
    "        {'name': 'longitude', 'type': 'float' },\n",
    "        {'name': 'saved', 'type': 'boolean'},\n",
    "        {'name': 'time_started', 'type': 'int'},\n",
    "        {'name': 'time_ended', 'type': 'int'}\n",
    "    ],\n",
    "}\n",
    "\n",
    "parsed_schema_ind = parse_schema(schema_ind)\n",
    "\n",
    "parsed_schema_ind"
   ]
  },
  {
   "cell_type": "code",
   "execution_count": 37,
   "id": "02a98d20-9536-45d3-ac5b-d9bf10e2fa92",
   "metadata": {},
   "outputs": [
    {
     "data": {
      "text/plain": [
       "100"
      ]
     },
     "execution_count": 37,
     "metadata": {},
     "output_type": "execute_result"
    }
   ],
   "source": [
    "def location_record(user_id):\n",
    "    \n",
    "    index_song_data = fake.pyint(min_value=0, max_value=len(songs_spotify)-1, step=1)\n",
    "\n",
    "    latitude = float(fake.latitude())\n",
    "    longitude = float(fake.longitude())\n",
    "    time_zone_str = TimezoneFinder().timezone_at(lat=latitude, lng=longitude)\n",
    "    localTimeZone = pytz.timezone(time_zone_str)\n",
    "    format = '%Y:%m:%dT%H:%M:%S%z'\n",
    "    \n",
    "\n",
    "    length = songs_spotify[\"duration_ms\"].loc[index_song_data]\n",
    "    length = int(length)\n",
    "    \n",
    "    record_ind = {\n",
    "        u'user_id': user_id,\n",
    "        u'id_song_played': songs_spotify[\"id\"].loc[index_song_data],\n",
    "        u'song_played': songs_spotify[\"name\"].loc[index_song_data],\n",
    "        u'artist_song_played': songs_spotify[\"artists\"].loc[index_song_data],\n",
    "        u'timezone': time_zone_str,\n",
    "        u'latitude': latitude,\n",
    "        u'longitude': longitude,\n",
    "        u'saved':  random.choice([True, False]),\n",
    "        u'time_started': datetime.now().astimezone(localTimeZone).strftime(format),\n",
    "        u'time_ended': (datetime.now() + timedelta(milliseconds=length)).astimezone(localTimeZone).strftime(format)\n",
    "    }\n",
    "    \n",
    "    return record_ind\n",
    "\n",
    "# Assuming location_record takes a person ID as an argument\n",
    "person_id = fake.pyint(min_value=12904, max_value=78672, step=1)\n",
    "records_ind = [location_record(person_id) for _ in range(20, 100)]\n",
    "\n",
    "records_ind = []\n",
    "for i in range(100):\n",
    "    person_id = fake.pyint(min_value=12904, max_value=78672, step=1)\n",
    "    records_ind.append(location_record(person_id))\n",
    "\n",
    "\n",
    "len(records_ind)"
   ]
  },
  {
   "cell_type": "code",
   "execution_count": 38,
   "id": "c7d3eae3-be37-47a3-9858-e9eba9f20038",
   "metadata": {},
   "outputs": [
    {
     "data": {
      "text/plain": [
       "[{'user_id': 20375,\n",
       "  'id_song_played': '1gAISR5OU9facKUrDBNEjR',\n",
       "  'song_played': 'Pramínek Vlasů',\n",
       "  'artist_song_played': \"['Miroslav Donutil']\",\n",
       "  'timezone': 'Etc/GMT+7',\n",
       "  'latitude': -67.5513365,\n",
       "  'longitude': -99.134842,\n",
       "  'saved': False,\n",
       "  'time_started': '2024:02:06T14:17:23-0700',\n",
       "  'time_ended': '2024:02:06T14:20:37-0700'},\n",
       " {'user_id': 56679,\n",
       "  'id_song_played': '7rZuTJW3MbyDRn7IehOgrQ',\n",
       "  'song_played': 'הדייגים',\n",
       "  'artist_song_played': \"['Erez Halevi']\",\n",
       "  'timezone': 'Etc/GMT-11',\n",
       "  'latitude': -7.857203,\n",
       "  'longitude': 170.612544,\n",
       "  'saved': False,\n",
       "  'time_started': '2024:02:07T08:17:24+1100',\n",
       "  'time_ended': '2024:02:07T08:20:58+1100'},\n",
       " {'user_id': 54275,\n",
       "  'id_song_played': '5fuLxRzNzweWQJU0MhpxJI',\n",
       "  'song_played': 'Bana Bir Gül Ver',\n",
       "  'artist_song_played': \"['Onur Akın']\",\n",
       "  'timezone': 'Etc/GMT+8',\n",
       "  'latitude': -78.6789775,\n",
       "  'longitude': -126.675599,\n",
       "  'saved': True,\n",
       "  'time_started': '2024:02:06T13:17:24-0800',\n",
       "  'time_ended': '2024:02:06T13:21:33-0800'}]"
      ]
     },
     "execution_count": 38,
     "metadata": {},
     "output_type": "execute_result"
    }
   ],
   "source": [
    "top_3_records_generated = records_ind[0:3]\n",
    "top_3_records_generated"
   ]
  }
 ],
 "metadata": {
  "kernelspec": {
   "display_name": "Python 3 (ipykernel)",
   "language": "python",
   "name": "python3"
  },
  "language_info": {
   "codemirror_mode": {
    "name": "ipython",
    "version": 3
   },
   "file_extension": ".py",
   "mimetype": "text/x-python",
   "name": "python",
   "nbconvert_exporter": "python",
   "pygments_lexer": "ipython3",
   "version": "3.10.7"
  }
 },
 "nbformat": 4,
 "nbformat_minor": 5
}
