{
 "cells": [
  {
   "cell_type": "code",
   "execution_count": 3,
   "id": "a7d617c3-5815-4519-bb54-75fc63131950",
   "metadata": {},
   "outputs": [
    {
     "data": {
      "text/plain": [
       "{'type': 'record',\n",
       " 'doc': 'Spotify Wrapped Data',\n",
       " 'name': 'spotify.schema.user.simulation.location',\n",
       " 'fields': [{'name': 'id_song_played', 'type': 'int'},\n",
       "  {'name': 'artist_song_played', 'type': 'string'},\n",
       "  {'name': 'song_played', 'type': 'string'},\n",
       "  {'name': 'datetime_utc', 'type': 'int'},\n",
       "  {'name': 'latitude', 'type': 'string'},\n",
       "  {'name': 'longitude', 'type': 'string'},\n",
       "  {'name': 'times_stopped', 'type': 'float'},\n",
       "  {'name': 'skipped', 'type': 'boolean'},\n",
       "  {'name': 'num_replay', 'type': 'int'},\n",
       "  {'name': 'saved', 'type': 'boolean'}],\n",
       " '__fastavro_parsed': True,\n",
       " '__named_schemas': {'spotify.schema.user.simulation.location': {'type': 'record',\n",
       "   'doc': 'Spotify Wrapped Data',\n",
       "   'name': 'spotify.schema.user.simulation.location',\n",
       "   'fields': [{'name': 'id_song_played', 'type': 'int'},\n",
       "    {'name': 'artist_song_played', 'type': 'string'},\n",
       "    {'name': 'song_played', 'type': 'string'},\n",
       "    {'name': 'datetime_utc', 'type': 'int'},\n",
       "    {'name': 'latitude', 'type': 'string'},\n",
       "    {'name': 'longitude', 'type': 'string'},\n",
       "    {'name': 'times_stopped', 'type': 'float'},\n",
       "    {'name': 'skipped', 'type': 'boolean'},\n",
       "    {'name': 'num_replay', 'type': 'int'},\n",
       "    {'name': 'saved', 'type': 'boolean'}]}}}"
      ]
     },
     "execution_count": 3,
     "metadata": {},
     "output_type": "execute_result"
    }
   ],
   "source": [
    "from fastavro import parse_schema\n",
    "\n",
    "\n",
    "schema_ind = {\n",
    "    'doc': 'Spotify Wrapped Data',\n",
    "    'name': 'song_played',\n",
    "    'namespace': 'spotify.schema.user.simulation',\n",
    "    'type': 'record',\n",
    "    'fields': [\n",
    "        {'name': 'id_song_played', 'type': 'int'},\n",
    "        {'name': 'artist_song_played', 'type': 'string'},\n",
    "        {'name': 'song_played', 'type': 'string'},\n",
    "        {'name': 'datetime_utc', 'type': 'int'},\n",
    "        {'name': 'latitude', 'type': 'string' },\n",
    "        {'name': 'longitude', 'type': 'string' },\n",
    "        {'name': 'times_stopped', 'type': 'float'},\n",
    "        {'name': 'skipped', 'type': 'boolean'},\n",
    "        {'name': 'num_replay', 'type': 'int'},\n",
    "        {'name': 'saved', 'type': 'boolean'},\n",
    "        {'name': 'time_started', 'type': 'boolean'},\n",
    "        {'name': 'time_ended', 'type': 'boolean'}\n",
    "    ],\n",
    "}\n",
    "\n",
    "parsed_schema_ind = parse_schema(schema_ind)\n",
    "\n",
    "parsed_schema_ind"
   ]
  },
  {
   "cell_type": "markdown",
   "id": "bbe43af0-19d0-49d4-ab3e-0acd9333479a",
   "metadata": {},
   "source": [
    "getting the tracks data "
   ]
  },
  {
   "cell_type": "code",
   "execution_count": 5,
   "id": "0cacf693-90b8-41fd-ae1e-b36ba47033c1",
   "metadata": {},
   "outputs": [],
   "source": [
    "import pandas as pd\n",
    "csv_file_path = 'tracks.csv'\n",
    "\n",
    "# Read the CSV file into a DataFrame\n",
    "songs_spotify = pd.read_csv(csv_file_path)"
   ]
  },
  {
   "cell_type": "code",
   "execution_count": 6,
   "id": "b58eeded-ac63-4cc1-9cd4-38530f80d32e",
   "metadata": {},
   "outputs": [
    {
     "data": {
      "text/plain": [
       "586672"
      ]
     },
     "execution_count": 6,
     "metadata": {},
     "output_type": "execute_result"
    }
   ],
   "source": [
    "len(songs_spotify)"
   ]
  },
  {
   "cell_type": "code",
   "execution_count": 7,
   "id": "3df51352-d052-420c-b4c2-d6e62220b37e",
   "metadata": {},
   "outputs": [
    {
     "data": {
      "text/html": [
       "<div>\n",
       "<style scoped>\n",
       "    .dataframe tbody tr th:only-of-type {\n",
       "        vertical-align: middle;\n",
       "    }\n",
       "\n",
       "    .dataframe tbody tr th {\n",
       "        vertical-align: top;\n",
       "    }\n",
       "\n",
       "    .dataframe thead th {\n",
       "        text-align: right;\n",
       "    }\n",
       "</style>\n",
       "<table border=\"1\" class=\"dataframe\">\n",
       "  <thead>\n",
       "    <tr style=\"text-align: right;\">\n",
       "      <th></th>\n",
       "      <th>id</th>\n",
       "      <th>name</th>\n",
       "      <th>popularity</th>\n",
       "      <th>duration_ms</th>\n",
       "      <th>explicit</th>\n",
       "      <th>artists</th>\n",
       "      <th>id_artists</th>\n",
       "      <th>release_date</th>\n",
       "      <th>danceability</th>\n",
       "      <th>energy</th>\n",
       "      <th>key</th>\n",
       "      <th>loudness</th>\n",
       "      <th>mode</th>\n",
       "      <th>speechiness</th>\n",
       "      <th>acousticness</th>\n",
       "      <th>instrumentalness</th>\n",
       "      <th>liveness</th>\n",
       "      <th>valence</th>\n",
       "      <th>tempo</th>\n",
       "      <th>time_signature</th>\n",
       "    </tr>\n",
       "  </thead>\n",
       "  <tbody>\n",
       "    <tr>\n",
       "      <th>0</th>\n",
       "      <td>35iwgR4jXetI318WEWsa1Q</td>\n",
       "      <td>Carve</td>\n",
       "      <td>6</td>\n",
       "      <td>126903</td>\n",
       "      <td>0</td>\n",
       "      <td>['Uli']</td>\n",
       "      <td>['45tIt06XoI0Iio4LBEVpls']</td>\n",
       "      <td>1922-02-22</td>\n",
       "      <td>0.645</td>\n",
       "      <td>0.4450</td>\n",
       "      <td>0</td>\n",
       "      <td>-13.338</td>\n",
       "      <td>1</td>\n",
       "      <td>0.4510</td>\n",
       "      <td>0.674</td>\n",
       "      <td>0.7440</td>\n",
       "      <td>0.151</td>\n",
       "      <td>0.127</td>\n",
       "      <td>104.851</td>\n",
       "      <td>3</td>\n",
       "    </tr>\n",
       "    <tr>\n",
       "      <th>1</th>\n",
       "      <td>021ht4sdgPcrDgSk7JTbKY</td>\n",
       "      <td>Capítulo 2.16 - Banquero Anarquista</td>\n",
       "      <td>0</td>\n",
       "      <td>98200</td>\n",
       "      <td>0</td>\n",
       "      <td>['Fernando Pessoa']</td>\n",
       "      <td>['14jtPCOoNZwquk5wd9DxrY']</td>\n",
       "      <td>1922-06-01</td>\n",
       "      <td>0.695</td>\n",
       "      <td>0.2630</td>\n",
       "      <td>0</td>\n",
       "      <td>-22.136</td>\n",
       "      <td>1</td>\n",
       "      <td>0.9570</td>\n",
       "      <td>0.797</td>\n",
       "      <td>0.0000</td>\n",
       "      <td>0.148</td>\n",
       "      <td>0.655</td>\n",
       "      <td>102.009</td>\n",
       "      <td>1</td>\n",
       "    </tr>\n",
       "    <tr>\n",
       "      <th>2</th>\n",
       "      <td>07A5yehtSnoedViJAZkNnc</td>\n",
       "      <td>Vivo para Quererte - Remasterizado</td>\n",
       "      <td>0</td>\n",
       "      <td>181640</td>\n",
       "      <td>0</td>\n",
       "      <td>['Ignacio Corsini']</td>\n",
       "      <td>['5LiOoJbxVSAMkBS2fUm3X2']</td>\n",
       "      <td>1922-03-21</td>\n",
       "      <td>0.434</td>\n",
       "      <td>0.1770</td>\n",
       "      <td>1</td>\n",
       "      <td>-21.180</td>\n",
       "      <td>1</td>\n",
       "      <td>0.0512</td>\n",
       "      <td>0.994</td>\n",
       "      <td>0.0218</td>\n",
       "      <td>0.212</td>\n",
       "      <td>0.457</td>\n",
       "      <td>130.418</td>\n",
       "      <td>5</td>\n",
       "    </tr>\n",
       "    <tr>\n",
       "      <th>3</th>\n",
       "      <td>08FmqUhxtyLTn6pAh6bk45</td>\n",
       "      <td>El Prisionero - Remasterizado</td>\n",
       "      <td>0</td>\n",
       "      <td>176907</td>\n",
       "      <td>0</td>\n",
       "      <td>['Ignacio Corsini']</td>\n",
       "      <td>['5LiOoJbxVSAMkBS2fUm3X2']</td>\n",
       "      <td>1922-03-21</td>\n",
       "      <td>0.321</td>\n",
       "      <td>0.0946</td>\n",
       "      <td>7</td>\n",
       "      <td>-27.961</td>\n",
       "      <td>1</td>\n",
       "      <td>0.0504</td>\n",
       "      <td>0.995</td>\n",
       "      <td>0.9180</td>\n",
       "      <td>0.104</td>\n",
       "      <td>0.397</td>\n",
       "      <td>169.980</td>\n",
       "      <td>3</td>\n",
       "    </tr>\n",
       "    <tr>\n",
       "      <th>4</th>\n",
       "      <td>08y9GfoqCWfOGsKdwojr5e</td>\n",
       "      <td>Lady of the Evening</td>\n",
       "      <td>0</td>\n",
       "      <td>163080</td>\n",
       "      <td>0</td>\n",
       "      <td>['Dick Haymes']</td>\n",
       "      <td>['3BiJGZsyX9sJchTqcSA7Su']</td>\n",
       "      <td>1922</td>\n",
       "      <td>0.402</td>\n",
       "      <td>0.1580</td>\n",
       "      <td>3</td>\n",
       "      <td>-16.900</td>\n",
       "      <td>0</td>\n",
       "      <td>0.0390</td>\n",
       "      <td>0.989</td>\n",
       "      <td>0.1300</td>\n",
       "      <td>0.311</td>\n",
       "      <td>0.196</td>\n",
       "      <td>103.220</td>\n",
       "      <td>4</td>\n",
       "    </tr>\n",
       "  </tbody>\n",
       "</table>\n",
       "</div>"
      ],
      "text/plain": [
       "                       id                                 name  popularity  \\\n",
       "0  35iwgR4jXetI318WEWsa1Q                                Carve           6   \n",
       "1  021ht4sdgPcrDgSk7JTbKY  Capítulo 2.16 - Banquero Anarquista           0   \n",
       "2  07A5yehtSnoedViJAZkNnc   Vivo para Quererte - Remasterizado           0   \n",
       "3  08FmqUhxtyLTn6pAh6bk45        El Prisionero - Remasterizado           0   \n",
       "4  08y9GfoqCWfOGsKdwojr5e                  Lady of the Evening           0   \n",
       "\n",
       "   duration_ms  explicit              artists                  id_artists  \\\n",
       "0       126903         0              ['Uli']  ['45tIt06XoI0Iio4LBEVpls']   \n",
       "1        98200         0  ['Fernando Pessoa']  ['14jtPCOoNZwquk5wd9DxrY']   \n",
       "2       181640         0  ['Ignacio Corsini']  ['5LiOoJbxVSAMkBS2fUm3X2']   \n",
       "3       176907         0  ['Ignacio Corsini']  ['5LiOoJbxVSAMkBS2fUm3X2']   \n",
       "4       163080         0      ['Dick Haymes']  ['3BiJGZsyX9sJchTqcSA7Su']   \n",
       "\n",
       "  release_date  danceability  energy  key  loudness  mode  speechiness  \\\n",
       "0   1922-02-22         0.645  0.4450    0   -13.338     1       0.4510   \n",
       "1   1922-06-01         0.695  0.2630    0   -22.136     1       0.9570   \n",
       "2   1922-03-21         0.434  0.1770    1   -21.180     1       0.0512   \n",
       "3   1922-03-21         0.321  0.0946    7   -27.961     1       0.0504   \n",
       "4         1922         0.402  0.1580    3   -16.900     0       0.0390   \n",
       "\n",
       "   acousticness  instrumentalness  liveness  valence    tempo  time_signature  \n",
       "0         0.674            0.7440     0.151    0.127  104.851               3  \n",
       "1         0.797            0.0000     0.148    0.655  102.009               1  \n",
       "2         0.994            0.0218     0.212    0.457  130.418               5  \n",
       "3         0.995            0.9180     0.104    0.397  169.980               3  \n",
       "4         0.989            0.1300     0.311    0.196  103.220               4  "
      ]
     },
     "execution_count": 7,
     "metadata": {},
     "output_type": "execute_result"
    }
   ],
   "source": [
    "songs_spotify.head(5)"
   ]
  },
  {
   "cell_type": "markdown",
   "id": "1d1983a9-de03-459d-a5b6-2bcfc66f285c",
   "metadata": {},
   "source": [
    "simulating a single user "
   ]
  },
  {
   "cell_type": "code",
   "execution_count": 9,
   "id": "dec52fd5-807a-4554-8bb7-d452aa309ded",
   "metadata": {},
   "outputs": [
    {
     "name": "stdout",
     "output_type": "stream",
     "text": [
      "CPU times: total: 141 ms\n",
      "Wall time: 651 ms\n"
     ]
    },
    {
     "data": {
      "text/plain": [
       "80"
      ]
     },
     "execution_count": 9,
     "metadata": {},
     "output_type": "execute_result"
    }
   ],
   "source": [
    "%%time\n",
    "import uuid\n",
    "import datetime\n",
    "import random\n",
    "from faker import Faker\n",
    "fake = Faker()\n",
    "# Faker.seed(2000) # Use only to generate the same data set\n",
    "\n",
    "def location_record(listen_songs):\n",
    "    \n",
    "    index_song_data = fake.pyint(min_value=0, max_value=len(songs_spotify)-1, step=1)\n",
    "    \n",
    "    record_ind = {\n",
    "        u'id_song_played': songs_spotify[\"id\"].loc[index_song_data],\n",
    "        u'song_played': songs_spotify[\"name\"].loc[index_song_data],\n",
    "        u'artist_song_played': songs_spotify[\"artists\"].loc[index_song_data],\n",
    "        u'datetime_utc': datetime.datetime.utcnow().timestamp(),\n",
    "        u'latitude': float(fake.latitude()),\n",
    "        u'longitude': float(fake.longitude()),\n",
    "        u'times_stopped': fake.pyint(min_value=0, max_value=10, step=1),\n",
    "        u'skipped': random.choice([True, False]),\n",
    "        u'num_replay': fake.pyint(min_value=0, max_value=10, step=1),\n",
    "        u'saved':  random.choice([True, False]),\n",
    "    }\n",
    "    \n",
    "    return record_ind\n",
    "\n",
    "# Assuming location_record takes a person ID as an argument\n",
    "person_id = fake.pyint(min_value=12904, max_value=78672, step=1)\n",
    "records_ind = [location_record(person_id) for _ in range(20, 100)]\n",
    "\n",
    "\n",
    "len(records_ind)"
   ]
  },
  {
   "cell_type": "code",
   "execution_count": 11,
   "id": "4502110f-d3f2-4819-8923-6ed42ec27974",
   "metadata": {},
   "outputs": [
    {
     "data": {
      "text/plain": [
       "[{'id_song_played': '6qoHBab3uXaz0qCXm04iTQ',\n",
       "  'song_played': 'Hacelo por Mí',\n",
       "  'artist_song_played': \"['Attaque 77']\",\n",
       "  'datetime_utc': 1707220850.997519,\n",
       "  'latitude': 26.7258005,\n",
       "  'longitude': 174.726319,\n",
       "  'times_stopped': 8,\n",
       "  'skipped': True,\n",
       "  'num_replay': 6,\n",
       "  'saved': True},\n",
       " {'id_song_played': '2jObIfKqejcReAjcmyb3Nf',\n",
       "  'song_played': 'Ég meina',\n",
       "  'artist_song_played': \"['Aron Can']\",\n",
       "  'datetime_utc': 1707220850.997519,\n",
       "  'latitude': -73.656651,\n",
       "  'longitude': -171.830913,\n",
       "  'times_stopped': 8,\n",
       "  'skipped': True,\n",
       "  'num_replay': 3,\n",
       "  'saved': True},\n",
       " {'id_song_played': '0NPECfHDF2sbM2yLFm7JH0',\n",
       "  'song_played': 'You You You - Stereo; 2008 Remaster',\n",
       "  'artist_song_played': \"['Gerry & The Pacemakers']\",\n",
       "  'datetime_utc': 1707220850.997519,\n",
       "  'latitude': 71.606634,\n",
       "  'longitude': -3.939422,\n",
       "  'times_stopped': 3,\n",
       "  'skipped': True,\n",
       "  'num_replay': 2,\n",
       "  'saved': False}]"
      ]
     },
     "execution_count": 11,
     "metadata": {},
     "output_type": "execute_result"
    }
   ],
   "source": [
    "top_3_records_generated = records_ind[0:3]\n",
    "top_3_records_generated"
   ]
  },
  {
   "cell_type": "code",
   "execution_count": 13,
   "id": "2801d8bf-fcb0-45cf-a4a6-6524e2072174",
   "metadata": {},
   "outputs": [
    {
     "data": {
      "text/plain": [
       "{'type': 'record',\n",
       " 'doc': 'Spotify Wrapped Data',\n",
       " 'name': 'spotify.schema.user.simulation.location',\n",
       " 'fields': [{'name': 'id_user', 'type': 'int'},\n",
       "  {'name': 'id_song_played', 'type': 'int'},\n",
       "  {'name': 'artist_song_played', 'type': 'string'},\n",
       "  {'name': 'song_played', 'type': 'string'},\n",
       "  {'name': 'datetime_utc', 'type': 'int'},\n",
       "  {'name': 'latitude', 'type': 'string'},\n",
       "  {'name': 'longitude', 'type': 'string'},\n",
       "  {'name': 'times_stopped', 'type': 'float'},\n",
       "  {'name': 'skipped', 'type': 'boolean'},\n",
       "  {'name': 'num_replay', 'type': 'int'},\n",
       "  {'name': 'saved', 'type': 'boolean'}],\n",
       " '__fastavro_parsed': True,\n",
       " '__named_schemas': {'spotify.schema.user.simulation.location': {'type': 'record',\n",
       "   'doc': 'Spotify Wrapped Data',\n",
       "   'name': 'spotify.schema.user.simulation.location',\n",
       "   'fields': [{'name': 'id_user', 'type': 'int'},\n",
       "    {'name': 'id_song_played', 'type': 'int'},\n",
       "    {'name': 'artist_song_played', 'type': 'string'},\n",
       "    {'name': 'song_played', 'type': 'string'},\n",
       "    {'name': 'datetime_utc', 'type': 'int'},\n",
       "    {'name': 'latitude', 'type': 'string'},\n",
       "    {'name': 'longitude', 'type': 'string'},\n",
       "    {'name': 'times_stopped', 'type': 'float'},\n",
       "    {'name': 'skipped', 'type': 'boolean'},\n",
       "    {'name': 'num_replay', 'type': 'int'},\n",
       "    {'name': 'saved', 'type': 'boolean'}]}}}"
      ]
     },
     "execution_count": 13,
     "metadata": {},
     "output_type": "execute_result"
    }
   ],
   "source": [
    "from fastavro import parse_schema\n",
    "\n",
    "\n",
    "schema_group = {\n",
    "    'doc': 'Spotify Wrapped Data',\n",
    "    'name': 'song_played',\n",
    "    'namespace': 'spotify.schema.user.simulation',\n",
    "    'type': 'record',\n",
    "    'fields': [\n",
    "        {'name': 'id_user', 'type': 'int'},\n",
    "        {'name': 'id_song_played', 'type': 'int'},\n",
    "        {'name': 'artist_song_played', 'type': 'string'},\n",
    "        {'name': 'song_played', 'type': 'string'},\n",
    "        {'name': 'datetime_utc', 'type': 'int'},\n",
    "        {'name': 'latitude', 'type': 'string' },\n",
    "        {'name': 'longitude', 'type': 'string' },\n",
    "        {'name': 'times_stopped', 'type': 'float'},\n",
    "        {'name': 'skipped', 'type': 'boolean'},\n",
    "        {'name': 'num_replay', 'type': 'int'},\n",
    "        {'name': 'saved', 'type': 'boolean'},\n",
    "        #{'name': 'time_started', 'type': 'boolean'},\n",
    "        #{'name': 'time_ended', 'type': 'boolean'}\n",
    "    ],\n",
    "}\n",
    "\n",
    "parsed_schema_group = parse_schema(schema_group)\n",
    "\n",
    "parsed_schema_group"
   ]
  },
  {
   "cell_type": "markdown",
   "id": "1c3cc47f-3859-4417-86ad-1c8635718f2d",
   "metadata": {
    "tags": []
   },
   "source": [
    "for the group simulation"
   ]
  },
  {
   "cell_type": "code",
   "execution_count": 14,
   "id": "f9f7032c-d37a-4d5f-97db-b9bb4da8ad6a",
   "metadata": {},
   "outputs": [
    {
     "name": "stdout",
     "output_type": "stream",
     "text": [
      "CPU times: total: 10.2 s\n",
      "Wall time: 10.9 s\n"
     ]
    },
    {
     "data": {
      "text/plain": [
       "220000"
      ]
     },
     "execution_count": 14,
     "metadata": {},
     "output_type": "execute_result"
    }
   ],
   "source": [
    "%%time\n",
    "import uuid\n",
    "import datetime\n",
    "import random\n",
    "from faker import Faker\n",
    "fake = Faker()\n",
    "# Faker.seed(2000) # Use only to generate the same data set\n",
    "\n",
    "\n",
    "def location_record_group(user_id):\n",
    "    \n",
    "    index_song_data = fake.pyint(min_value=0, max_value=len(songs_spotify)-1, step=1)\n",
    "    \n",
    "    record_group = {\n",
    "        u'id_user': user_id,\n",
    "        u'id_song_played': songs_spotify[\"id\"].loc[index_song_data],\n",
    "        u'song_played': songs_spotify[\"name\"].loc[index_song_data],\n",
    "        u'artist_song_played': songs_spotify[\"artists\"].loc[index_song_data],\n",
    "        u'datetime_utc': datetime.datetime.utcnow().timestamp(),\n",
    "        u'latitude': float(fake.latitude()),\n",
    "        u'longitude': float(fake.longitude()),\n",
    "        u'times_stopped': fake.pyint(min_value=0, max_value=10, step=1),\n",
    "        u'skipped': random.choice([True, False]),\n",
    "        u'num_replay': fake.pyint(min_value=0, max_value=10, step=1),\n",
    "        u'saved':  random.choice([True, False]),\n",
    "    }\n",
    "    \n",
    "    return record_group\n",
    "\n",
    "listen_songs_group =[{ 'user_id': str(uuid.uuid1()), 'num_songs': random.randint(1, 20)} for _ in range(0,10000) ]\n",
    "records_group = [ location_record_group(user['user_id']) for _ in range(0, random.randint(1,100)) for user in listen_songs_group ]\n",
    "\n",
    "len(records_group)"
   ]
  },
  {
   "cell_type": "code",
   "execution_count": 15,
   "id": "fdcb0686-06c2-4e4e-9ff9-97860775ae22",
   "metadata": {},
   "outputs": [
    {
     "data": {
      "text/plain": [
       "[{'id_song_played': '6qoHBab3uXaz0qCXm04iTQ',\n",
       "  'song_played': 'Hacelo por Mí',\n",
       "  'artist_song_played': \"['Attaque 77']\",\n",
       "  'datetime_utc': 1707220850.997519,\n",
       "  'latitude': 26.7258005,\n",
       "  'longitude': 174.726319,\n",
       "  'times_stopped': 8,\n",
       "  'skipped': True,\n",
       "  'num_replay': 6,\n",
       "  'saved': True},\n",
       " {'id_song_played': '2jObIfKqejcReAjcmyb3Nf',\n",
       "  'song_played': 'Ég meina',\n",
       "  'artist_song_played': \"['Aron Can']\",\n",
       "  'datetime_utc': 1707220850.997519,\n",
       "  'latitude': -73.656651,\n",
       "  'longitude': -171.830913,\n",
       "  'times_stopped': 8,\n",
       "  'skipped': True,\n",
       "  'num_replay': 3,\n",
       "  'saved': True},\n",
       " {'id_song_played': '0NPECfHDF2sbM2yLFm7JH0',\n",
       "  'song_played': 'You You You - Stereo; 2008 Remaster',\n",
       "  'artist_song_played': \"['Gerry & The Pacemakers']\",\n",
       "  'datetime_utc': 1707220850.997519,\n",
       "  'latitude': 71.606634,\n",
       "  'longitude': -3.939422,\n",
       "  'times_stopped': 3,\n",
       "  'skipped': True,\n",
       "  'num_replay': 2,\n",
       "  'saved': False}]"
      ]
     },
     "execution_count": 15,
     "metadata": {},
     "output_type": "execute_result"
    }
   ],
   "source": [
    "top_3_records_generated = records_ind[0:3]\n",
    "top_3_records_generated"
   ]
  },
  {
   "cell_type": "markdown",
   "id": "06dd5829-727b-4829-a22c-2532eba6efad",
   "metadata": {},
   "source": [
    "SESSION STRUCTURE"
   ]
  },
  {
   "cell_type": "code",
   "execution_count": 104,
   "id": "d56ba6d0-b20c-4e1b-81bf-9e98408c22e5",
   "metadata": {},
   "outputs": [],
   "source": [
    "from datetime import datetime, timedelta, timezone\n",
    "import random\n",
    "import numpy as np"
   ]
  },
  {
   "cell_type": "code",
   "execution_count": 117,
   "id": "f3fb4814-6d06-44d6-82c8-82d5a2b51b8d",
   "metadata": {},
   "outputs": [],
   "source": [
    "sesh_schema_ind = {\n",
    "    'doc': 'Spotify Wrapped Data',\n",
    "    'name': 'session',\n",
    "    'namespace': 'spotify.schema.user.simulation',\n",
    "    'type': 'record',\n",
    "    'fields': [\n",
    "        {'name': 'user_id', 'type': 'string' },\n",
    "        {'name': 'id_songs_played', 'type': {'name': 'id_songs_played', 'type': 'array', 'items': 'string'}},\n",
    "        {'name': 'artists_song_played', 'type': {'name': 'artists_song_played', 'type': 'array', 'items': 'string'}},\n",
    "        {'name': 'songs_played', 'type': {'name': 'songs_played', 'type': 'array', 'items': 'string'}},\n",
    "        {'name': 'latitude', 'type': 'float' },\n",
    "        {'name': 'longitude', 'type': 'float' },\n",
    "        {'name': 'times_stopped', 'type': 'int'},\n",
    "        {'name': 'skipped', 'type': 'int'},\n",
    "        {'name': 'num_replay', 'type': 'int'},\n",
    "        {'name': 'saved', 'type': 'int'},\n",
    "        {'name': 'session_time_started', 'type': 'int'},\n",
    "        {'name': 'session_time_ended', 'type': 'int'}\n",
    "    ],\n",
    "}"
   ]
  },
  {
   "cell_type": "code",
   "execution_count": 118,
   "id": "e971e419-ac33-4b68-b1d5-33f433649dbe",
   "metadata": {},
   "outputs": [
    {
     "data": {
      "text/plain": [
       "{'type': 'record',\n",
       " 'doc': 'Spotify Wrapped Data',\n",
       " 'name': 'spotify.schema.user.simulation.session',\n",
       " 'fields': [{'name': 'user_id', 'type': 'string'},\n",
       "  {'name': 'id_songs_played', 'type': {'type': 'array', 'items': 'string'}},\n",
       "  {'name': 'artists_song_played',\n",
       "   'type': {'type': 'array', 'items': 'string'}},\n",
       "  {'name': 'songs_played', 'type': {'type': 'array', 'items': 'string'}},\n",
       "  {'name': 'latitude', 'type': 'float'},\n",
       "  {'name': 'longitude', 'type': 'float'},\n",
       "  {'name': 'times_stopped', 'type': 'int'},\n",
       "  {'name': 'skipped', 'type': 'int'},\n",
       "  {'name': 'num_replay', 'type': 'int'},\n",
       "  {'name': 'saved', 'type': 'int'},\n",
       "  {'name': 'session_time_started', 'type': 'int'},\n",
       "  {'name': 'session_time_ended', 'type': 'int'}],\n",
       " '__fastavro_parsed': True,\n",
       " '__named_schemas': {'spotify.schema.user.simulation.session': {'type': 'record',\n",
       "   'doc': 'Spotify Wrapped Data',\n",
       "   'name': 'spotify.schema.user.simulation.session',\n",
       "   'fields': [{'name': 'user_id', 'type': 'string'},\n",
       "    {'name': 'id_songs_played', 'type': {'type': 'array', 'items': 'string'}},\n",
       "    {'name': 'artists_song_played',\n",
       "     'type': {'type': 'array', 'items': 'string'}},\n",
       "    {'name': 'songs_played', 'type': {'type': 'array', 'items': 'string'}},\n",
       "    {'name': 'latitude', 'type': 'float'},\n",
       "    {'name': 'longitude', 'type': 'float'},\n",
       "    {'name': 'times_stopped', 'type': 'int'},\n",
       "    {'name': 'skipped', 'type': 'int'},\n",
       "    {'name': 'num_replay', 'type': 'int'},\n",
       "    {'name': 'saved', 'type': 'int'},\n",
       "    {'name': 'session_time_started', 'type': 'int'},\n",
       "    {'name': 'session_time_ended', 'type': 'int'}]}}}"
      ]
     },
     "execution_count": 118,
     "metadata": {},
     "output_type": "execute_result"
    }
   ],
   "source": [
    "parsed_sesh_schema_ind = parse_schema(sesh_schema_ind)\n",
    "\n",
    "parsed_sesh_schema_ind"
   ]
  },
  {
   "cell_type": "code",
   "execution_count": 110,
   "id": "e9b5944f-39cd-4d96-86b4-344cf470b687",
   "metadata": {},
   "outputs": [
    {
     "data": {
      "text/plain": [
       "80"
      ]
     },
     "execution_count": 110,
     "metadata": {},
     "output_type": "execute_result"
    }
   ],
   "source": [
    "def location_record(listen_songs, n_session_songs, time_of_day_start):\n",
    "\n",
    "    list_of_indexes = []\n",
    "    for i in range(n_session_songs):\n",
    "        list_of_indexes.append(fake.pyint(min_value=0, max_value=len(songs_spotify)-1, step=1))\n",
    "\n",
    "    song_durations = [songs_spotify[\"duration_ms\"].loc[i] for i in list_of_indexes]\n",
    "    song_durations = int(sum(song_durations))\n",
    "\n",
    "    latitude = float(fake.latitude())\n",
    "    longitude = float(fake.longitude())\n",
    "    time_zone = TimezoneFinder().timezone_at(lat=latitude, lng=longitude)\n",
    "    \n",
    "    record_ind = {\n",
    "        u'user_id': listen_songs,\n",
    "        u'id_songs_played': [songs_spotify[\"id\"].loc[i] for i in list_of_indexes],\n",
    "        u'songs_played': [songs_spotify[\"name\"].loc[i] for i in list_of_indexes],\n",
    "        u'artist_songs_played': [songs_spotify[\"artists\"].loc[i] for i in list_of_indexes],\n",
    "        u'latitude': latitude,\n",
    "        u'longitude': longitude,\n",
    "        u'timezone': time_zone,\n",
    "        u'times_stopped': fake.pyint(min_value=0, max_value=10, step=1),\n",
    "        u'skipped': fake.pyint(min_value=0, max_value=10, step=1),\n",
    "        u'num_replay': fake.pyint(min_value=0, max_value=10, step=1),\n",
    "        u'saved': fake.pyint(min_value=0, max_value=10, step=1),\n",
    "        u'session_time_started': time_of_day_start,\n",
    "        u'session_time_ended': time_of_day_start + timedelta(milliseconds=song_durations)\n",
    "    }\n",
    "    \n",
    "    return record_ind\n",
    "\n",
    "# Assuming location_record takes a person ID as an argument\n",
    "records_ind = []\n",
    "\n",
    "for i in range(20, 100):\n",
    "    person_id = fake.pyint(min_value=12904, max_value=78672, step=1)\n",
    "    n_of_songs = fake.pyint(min_value=1, max_value=100, step=1)\n",
    "    time_of_day = fake.date_time_between(start_date = datetime(2006, 4, 23), end_date = datetime.now())\n",
    "    records_ind.append(location_record(person_id, n_of_songs, time_of_day))\n",
    "\n",
    "\n",
    "len(records_ind)"
   ]
  },
  {
   "cell_type": "code",
   "execution_count": 111,
   "id": "8f41ed16-c399-4bb5-a892-07199057b76e",
   "metadata": {},
   "outputs": [
    {
     "data": {
      "text/plain": [
       "[{'user_id': 64950,\n",
       "  'id_songs_played': ['3VCWJexK5DhSo4FdvBwTLs',\n",
       "   '0krrJiog8dCs2JhQxASxFu',\n",
       "   '63HE42Dm8pJHuPuRFQ665b',\n",
       "   '1gtxKytcUAv8ZKET0CYHY3',\n",
       "   '0jZ9AdPDOzqHLS5wucCNrC',\n",
       "   '4lQNhsnj55C67O7SKXWAMC',\n",
       "   '3uHNvPdZjfcciXXB1sPH9A',\n",
       "   '2dCLB9t0kl3WP0BfUcZI62',\n",
       "   '6au6Hv9BgciDSxHx85k7ut',\n",
       "   '2UTYXcT65CtEfLHWy2ODXR',\n",
       "   '2cZtX94TdAdC5w0tdAXLY6',\n",
       "   '1RYbMD60ReqByGWC0IRCh4',\n",
       "   '4BrqTapIghu9mWQhl1ZAdZ',\n",
       "   '5R2rXpISHhE7IKZuKMri5K',\n",
       "   '7ij6mE8unSiAw8vWlZ0Vzs',\n",
       "   '7zKiVR70T8iAaWdFO33BSo',\n",
       "   '7c2h4jzcyJsN1QzTb8ZpiZ',\n",
       "   '4u6rcmlhDDgS0YAo8ZMI4a',\n",
       "   '4TtkcCPD4SdVPhu2yFobMp',\n",
       "   '4r8e2JrMLbqtlH3Yf2Thx2',\n",
       "   '3Fbc4WaUbA797hY1ZpskXs',\n",
       "   '1C5eXdxiGK6unIvON7UDPb',\n",
       "   '6elBJYzQzUePvoM0AkDIhd',\n",
       "   '31c37xfmgHkAAqiDzNTln8',\n",
       "   '3gkijt6bxk8ts6S2RCEu4n',\n",
       "   '6OwkEO86D09EkIp1bfYaQt',\n",
       "   '7JxTp4HrI99hr6L3VMCZbj'],\n",
       "  'songs_played': [\"Zeg 'ns Meisje\",\n",
       "   'Hay Un Tren A Las Cinco',\n",
       "   'Sevdik de noldu sanki',\n",
       "   'Heureux qui comme Ulysse',\n",
       "   'Bosquito',\n",
       "   '087 - Wolfsgesicht - Teil 28',\n",
       "   'เซียมซีเสี่ยงรัก',\n",
       "   'Entrega',\n",
       "   'The Muffin Man - 2012 Version',\n",
       "   'Ge mig en öl',\n",
       "   'יש לי גלידה',\n",
       "   'En La Orilla Del Mar',\n",
       "   'How Could You Call Her Baby - from Waiting to Exhale - Original Soundtrack',\n",
       "   'Tumko Bhi To Aisa Kuchh Hota',\n",
       "   'Amor Prohibido / Basta Ya / Amor Amor',\n",
       "   'Noční Motýl',\n",
       "   \"Ain't Nobody\",\n",
       "   'Wild Wild Life - 2005 Remaster',\n",
       "   'Dragostea Din Tei - Original Italian Version',\n",
       "   'Sugar',\n",
       "   '一家八口一張床 (電影[葡萄仙子]插曲)',\n",
       "   'Crazy Arms',\n",
       "   'Angel',\n",
       "   \"That's How I Got to Memphis\",\n",
       "   'Electrical Storm - William Orbit Mix',\n",
       "   'Stop, Drop and Roll',\n",
       "   'México Lindo y Bandido'],\n",
       "  'artist_songs_played': [\"['Paul Severs']\",\n",
       "   \"['Joan Sebastian']\",\n",
       "   \"['Patron']\",\n",
       "   \"['Georges Brassens']\",\n",
       "   \"['Bosquito']\",\n",
       "   \"['Die drei ???']\",\n",
       "   \"['สมยศ ทัศนพันธุ์']\",\n",
       "   \"['Duas Vezes']\",\n",
       "   \"['The Kiboomers']\",\n",
       "   \"['Kenneth & The Knutters']\",\n",
       "   '[\"100 First Songs\\' Participants\"]',\n",
       "   \"['Bienvenido Granda', 'La Sonora Matancera']\",\n",
       "   \"['Shanna']\",\n",
       "   \"['Kishore Kumar', 'Lata Mangeshkar']\",\n",
       "   \"['Agua Marina']\",\n",
       "   \"['Felix Slováček', 'Ladislav Štaidl se svým orchestrem']\",\n",
       "   \"['LL Cool J']\",\n",
       "   \"['Talking Heads', 'Jerry Harrison']\",\n",
       "   \"['O-Zone']\",\n",
       "   \"['ARASHI']\",\n",
       "   \"['姚莉']\",\n",
       "   \"['Patsy Cline', 'The Jordanaires']\",\n",
       "   \"['Widinson']\",\n",
       "   \"['Bobby Bare']\",\n",
       "   \"['U2']\",\n",
       "   \"['Mareko', 'Deceptikonz']\",\n",
       "   \"['Cartel De Santa']\"],\n",
       "  'latitude': 80.4777875,\n",
       "  'longitude': -167.013806,\n",
       "  'timezone': 'Etc/GMT+11',\n",
       "  'times_stopped': 2,\n",
       "  'skipped': 5,\n",
       "  'num_replay': 8,\n",
       "  'saved': 9,\n",
       "  'session_time_started': datetime.datetime(2015, 2, 27, 15, 36, 37),\n",
       "  'session_time_ended': datetime.datetime(2015, 2, 27, 17, 6, 4, 640000)},\n",
       " {'user_id': 35119,\n",
       "  'id_songs_played': ['0r78QX3oN8dxo2l3H9118r',\n",
       "   '6X7gUD7WUftg866UhOVZs1',\n",
       "   '1WLsb0EkSN2X6wBv5vr4ps',\n",
       "   '2A3CzmtFj1sK6W1qQtBz86',\n",
       "   '5Q61FoeFAbYZBpkKSeUEDj',\n",
       "   '7ztostfOVw4ecVpVQVj9sx',\n",
       "   '16W3Eqvgh4Sl84RoHZYnNV',\n",
       "   '1JDhEkyyFyiXSlDWUswyyT',\n",
       "   '4IBzgsoWHLsP8AMlO23iOF',\n",
       "   '1UcuiA4y04FqFZnWUBGIDS',\n",
       "   '4G1InSK9BiZ4c1irTtZKYo',\n",
       "   '0HXYqKxtdHB9HLhjwPozcF',\n",
       "   '0RzAihLqsEg9Qcm4pfPbG2',\n",
       "   '05mdAilUN1q64uIrj83qkt',\n",
       "   '6PY4SQue8uzeN3GrLaHwgF',\n",
       "   '7hynCdFdIaUJbtTRxxKoPW',\n",
       "   '2zroUyG80xataKpq0JaYtX',\n",
       "   '0n2zC3YbZVVzYaHWFLbD4v',\n",
       "   '193sAxevqDGl7dZJJCnGFP',\n",
       "   '0ETTmurDVgqaxa1SgWidKd',\n",
       "   '56JJ8IdLSDXz9BTz72GCId',\n",
       "   '2VNmXkm0ZcQbPxGtASw8ar',\n",
       "   '5nufiLQz9iepKYRLzv3t3W',\n",
       "   '69jOMPJIMeCzBsRQvecQ9q',\n",
       "   '3i1rSzXFJpSiEu0zZiEmpD',\n",
       "   '0r6DgIldPDctCW2epA1vQH',\n",
       "   '0hb6So4X6HjDuG8rCAtVCe',\n",
       "   '00yPKqWFzQYP7rX0H49e0B',\n",
       "   '16iLmXbU1q4Ul2vw2yJjTH',\n",
       "   '2XZa7PVf7WpJJgfXGIKWVw',\n",
       "   '4XVUeNMpP42wM6zA2P44ey',\n",
       "   '1KForwbOwPqrQQcG3tWzIn',\n",
       "   '0IIGeWzu4YoRZNWwV1kXw5',\n",
       "   '5zsvrbPy4w9nz067ViWprz',\n",
       "   '42yRBMlUW9X6s5EiH5r99t',\n",
       "   '7qM6a0Wvk47JXDlkGy06K2',\n",
       "   '3y8vv1rTXwY67NVgvIPvuO',\n",
       "   '0jcUpAvfTUzMdcupbgro5S',\n",
       "   '16TRnbHCx8xN44fZJqB1sC',\n",
       "   '5BXE7i3fePaWhb2AqyczFJ',\n",
       "   '4WIQ2vP8qkTOSi79tqqQ2A',\n",
       "   '1KiiPxmqL9S99Z8wOsPECS',\n",
       "   '7KjHYpqVAieTE1JVreUPkv',\n",
       "   '6yopott3iwJK6uUW1bahiA',\n",
       "   '49ZuWb4EL3TZhZ6n1gYvsy',\n",
       "   '2qP6AKTxAS8cxzRfiuyDo3',\n",
       "   '63yagWYNKRZJrV6dRX45Mz',\n",
       "   '4llGmqfXPKo2Cil91jgiXS',\n",
       "   '1j6moy4ZgR6cwNiHISFT5m',\n",
       "   '6z1yffNnJosHzfWskFmAuP',\n",
       "   '3zw9ZPgu8Vomn8wFaMmFu6',\n",
       "   '2jz57TSVT0lQyX2ghmNSsh',\n",
       "   '3FGkrC6oZKXSHcLojBAUg3',\n",
       "   '0XciURyiZCzHBHJGUxvMbX',\n",
       "   '43xHLToY9KFqmYAuqZ1xpF',\n",
       "   '0O986IRZ2rL3qGH5QiD4ZO',\n",
       "   '51FVn0j4WItN6OFKiqdM5j',\n",
       "   '5C3GVibKCRuKyo8ACD3uKG',\n",
       "   '0hmIrPRi4TtSiWzkuXALHV'],\n",
       "  'songs_played': ['Animal Nitrate',\n",
       "   'Ghostrider in the Sky',\n",
       "   'Main To Hoon Pagal',\n",
       "   'Huwag Mo Nang Itanong',\n",
       "   'Ingratitudes',\n",
       "   'Sugarhigh',\n",
       "   'Jiya Jale',\n",
       "   'It All Depends On You',\n",
       "   'Hat 2 da Back',\n",
       "   'Y Tú Con Él',\n",
       "   'Hand of Law',\n",
       "   'Me Vuelvo Loco por Vos',\n",
       "   'Rip X',\n",
       "   'Die Zauberflöte, K.620, Act I: He da! Was da? (Tamino, Papageno, Damen)',\n",
       "   'Malam Biru',\n",
       "   'Ennappanallavaa',\n",
       "   'Sonata No.2 in E flat major, BWV 1031 - Arr. Wilhelm Kempff: Siciliano',\n",
       "   'Cesta',\n",
       "   'Queda Livre',\n",
       "   'Très Chouette',\n",
       "   'Ako shte da boli',\n",
       "   '空しい放課後',\n",
       "   'Mi Wachiman',\n",
       "   'Сапоги - Live',\n",
       "   'ถามหน่อย',\n",
       "   'mantili kalamatiano',\n",
       "   'Mazurka in G Minor, Op.67, No.2',\n",
       "   'Mr hods ned leicht',\n",
       "   'แกล้งโง่',\n",
       "   'Kalviya Selvam Veerama',\n",
       "   'Beale Street Blues',\n",
       "   'Vefasız',\n",
       "   'Har Du Hørt Historien Om De Tre Små Fisk',\n",
       "   'Me Equivocaré',\n",
       "   'Saklımdasın',\n",
       "   'Bjørnegymnastik',\n",
       "   'Chapter 4.2 - Kariera Nikodema Dyzmy',\n",
       "   'A Media Luz',\n",
       "   'Chopin: 24 Preludes, Op. 28: No. 20 in C Minor',\n",
       "   'Walk Away (Mixed)',\n",
       "   'The Ballad of Billy the Kid - Live at Madison Square Garden, New York, NY - December 31, 1999',\n",
       "   '坂の下に見えたあの街に',\n",
       "   '001 - In 80 Tagen um die Welt - Teil 39',\n",
       "   'A Idade do Céu (La Edad del Cielo) (feat. Kevin Johansen) - Ao Vivo',\n",
       "   'Anna',\n",
       "   'Pray for the Lights to Go Out',\n",
       "   'Quem Pode Livrar',\n",
       "   'Any Which Way You Can',\n",
       "   'Cuando Tenga Sesenta Y Cuatro (When I´m Sixty Four)',\n",
       "   'Chapter 5.4 - Doktor Murek zredukowany',\n",
       "   'Ship Without a Captain',\n",
       "   'Fjøsvisa',\n",
       "   'Cuando se ama',\n",
       "   'Have You Looked into Your Heart',\n",
       "   'Lilim (In Your Shelter)',\n",
       "   'Mind Your Manners (feat. Icona Pop)',\n",
       "   'Medicine',\n",
       "   'Just Say I Love Her (Dicitencello Vuie) - Remastered',\n",
       "   'El Party'],\n",
       "  'artist_songs_played': [\"['Suede']\",\n",
       "   \"['Foggy Mountain Rockers']\",\n",
       "   \"['Abhijeet', 'Shah Rukh Khan']\",\n",
       "   \"['Eraserheads']\",\n",
       "   \"['Bobby Valentin']\",\n",
       "   \"['Coyote Shivers']\",\n",
       "   \"['Lata Mangeshkar', 'M. G. Sreekumar']\",\n",
       "   \"['Doris Day']\",\n",
       "   \"['TLC']\",\n",
       "   \"['Industria del Amor']\",\n",
       "   \"['Radio Birdman']\",\n",
       "   \"['Vilma Palma e Vampiros']\",\n",
       "   \"['iamjakehill']\",\n",
       "   \"['Wolfgang Amadeus Mozart', 'Siegfried Jerusalem', 'Bernard Haitink', 'Bayerischer Rundfunk', 'Bavarian Radio Symphony Orchestra']\",\n",
       "   \"['Sandhy Sondoro']\",\n",
       "   \"['M.M.Dandapani Desikar']\",\n",
       "   \"['Johann Sebastian Bach', 'Wilhelm Kempff']\",\n",
       "   \"['No Name']\",\n",
       "   \"['Dead Fish']\",\n",
       "   \"['Jimmy Raney Quintet']\",\n",
       "   \"['Preslava']\",\n",
       "   \"['Yuji Nomi']\",\n",
       "   \"['Sonia Silvestre']\",\n",
       "   \"['Korol i Shut']\",\n",
       "   \"['VARINZ', 'Z TRIP', 'Ponchet', 'Nonny9', 'Kanom']\",\n",
       "   \"['Roza Eskenazi']\",\n",
       "   \"['Frédéric Chopin', 'Vladimir Ashkenazy']\",\n",
       "   \"['Winfried Wagner']\",\n",
       "   \"['คาราเมล', 'รวมศิลปิน (เลิฟ ออฟ เดอะ เยียร์ 2012)']\",\n",
       "   \"['T. M. Soundararajan']\",\n",
       "   \"['Louis Armstrong']\",\n",
       "   \"['Soner Arıca']\",\n",
       "   \"['Wenche Myhre']\",\n",
       "   \"['Antonio José']\",\n",
       "   \"['Erdal Güney']\",\n",
       "   \"['Sigurd Barrett']\",\n",
       "   \"['Tadeusz Dolega Mostowicz']\",\n",
       "   \"['Nat King Cole']\",\n",
       "   \"['Frédéric Chopin', 'Alfred Cortot']\",\n",
       "   \"['Luke Bond', 'Sarah de Warren']\",\n",
       "   \"['Billy Joel']\",\n",
       "   \"['Yutaka Ozaki']\",\n",
       "   \"['Die Originale']\",\n",
       "   \"['Paulinho Moska', 'Kevin Johansen']\",\n",
       "   \"['Lavrentis Machairitsas']\",\n",
       "   \"['Eddie Condon']\",\n",
       "   \"['Ministério Koinonya de Louvor', 'Asaph Borba', 'Rosane Borba']\",\n",
       "   \"['Glen Campbell']\",\n",
       "   \"['Los Shakers']\",\n",
       "   \"['Tadeusz Dolega Mostowicz']\",\n",
       "   \"['The Gladiators']\",\n",
       "   \"['Vømmøl Spellmannslag']\",\n",
       "   \"['Laura Pausini']\",\n",
       "   \"['Jerry Vale']\",\n",
       "   \"['Victory Worship']\",\n",
       "   \"['Chiddy Bang', 'Icona Pop']\",\n",
       "   \"['Hollywood Undead']\",\n",
       "   \"['Dean Martin']\",\n",
       "   \"['dreamerbad']\"],\n",
       "  'latitude': 61.61492,\n",
       "  'longitude': 100.668313,\n",
       "  'timezone': 'Asia/Krasnoyarsk',\n",
       "  'times_stopped': 0,\n",
       "  'skipped': 10,\n",
       "  'num_replay': 0,\n",
       "  'saved': 6,\n",
       "  'session_time_started': datetime.datetime(2007, 5, 3, 3, 10, 35),\n",
       "  'session_time_ended': datetime.datetime(2007, 5, 3, 6, 28, 24, 981000)},\n",
       " {'user_id': 42729,\n",
       "  'id_songs_played': ['1F9ArOBSLkw1wIiN8Dto70',\n",
       "   '4fyHMvxLIFtD4GQaypey0n',\n",
       "   '1GOAaxclLx0jCDBW934nUb',\n",
       "   '5otJtpkkzt014CfpgRQf0j',\n",
       "   '38QLGTbA4Ks2U6HOaorFIZ',\n",
       "   '6QxZGgY1CpNkMLwzFCoLh0',\n",
       "   '4uwADvxKAshar2O8zJ4roO',\n",
       "   '5SojpspbxiNGW7j2BoRQ34',\n",
       "   '1wuY3sjHoi5F1sjiuMxnz5',\n",
       "   '4FIMducefjEEBwXPyaSyZP',\n",
       "   '5WKdtVn5dPKSN0ZTEEVhHW',\n",
       "   '1QTq0WpNRwvDsI2V6qxcu9',\n",
       "   '5LPDrtngFehXoa8N0OFEjv',\n",
       "   '0Bu6lQJKyzPmOXFEL2A5YE',\n",
       "   '4MEXSxG05GxU1v2GjLVauM',\n",
       "   '1Eqb6QJ29hLGCzHmklzOuX',\n",
       "   '4NpEzn8OrAVgn97DiET2Gk',\n",
       "   '16wsshdY3nqCoG9yCJIMEP',\n",
       "   '7G28xB06bvCgW0XVINihEZ',\n",
       "   '5OAQpdkxSJtdxpBft95aMl',\n",
       "   '43t5MVOHh8xbuOimhFbIVv',\n",
       "   '2SWE6ngIRrLKC8qjwi7JYI',\n",
       "   '69wLJc6kgffKGDR7vd2kEr',\n",
       "   '5LnChMpPDKhkyE6wJjVGn1',\n",
       "   '2TcVfOR0bXXcEXg42VMxMc',\n",
       "   '2joJh76ZDdZjTzUpWdICIE',\n",
       "   '5OYUtKjALXnNjXRwTVStCK',\n",
       "   '1aX1SQB7zdwFVvGTps88OR',\n",
       "   '3i35K080zoiYWIUSp4Sku0',\n",
       "   '6NteIxnFShcRW7xWJ895Qc',\n",
       "   '7CfmK0gHb8OI0PAqRTsHDR',\n",
       "   '3OhJmff7kTaPo51aTXN01r',\n",
       "   '3p0JLiO2eCaGurE0pG2tJZ',\n",
       "   '1Q4OyAfTbP9tMv00ejgj2h',\n",
       "   '21wIHVWsJGxKogPyZx23nn',\n",
       "   '5B5iKxCoj1ny3yzeXkABgA',\n",
       "   '6fivoYKKTqOprW82qQ15w8',\n",
       "   '39bf5I73Mta4ELgJYK7TSK',\n",
       "   '00e6GUvNwivwWs1Qg9WVr4',\n",
       "   '3mVXzpHT3KwwZRxLqMLCC8',\n",
       "   '1inchHWneVet64X52oyYuA',\n",
       "   '1hM7V40wwgEwNNNEdY0aT7',\n",
       "   '1X4Ntw6Lbaa1ACgilCqMpr',\n",
       "   '185w1oJtpFLNFsRt7DMudo',\n",
       "   '3DSMZoABrPUpikvFBjbn1X',\n",
       "   '1c8TpqSOIu9dFwQ5BpK8iL',\n",
       "   '2GhMeestBwUYJdBEO3FK0L',\n",
       "   '7j9Gdq7vu15DUHMI2Mc2jw',\n",
       "   '3I2GYI71Wvrr1UwfADsqJl',\n",
       "   '7asQFElTEd7zcBi8c5l6K9',\n",
       "   '1TmAEn2Q0ZojJzjnDsTOms',\n",
       "   '6dTX0w5LgATNtgx6112Bij',\n",
       "   '5s5IHEF4u614VeprXKvFcK',\n",
       "   '0AgoEsfZhJqzqWRBo3U9dK',\n",
       "   '1o0DzYMVRwzsHOm3ktqc9a',\n",
       "   '558q0ZlzkrRhgalR23SSrl',\n",
       "   '4NjFzJTE9kbc25jzHvA1fg',\n",
       "   '0t0uZpS1A6jXkUilUlVRVp',\n",
       "   '5uWcSEosrjPahqX3CDn0Dp',\n",
       "   '2dyh1QzXCKCylUnfPOZQj7',\n",
       "   '2jdmg3mAkJD59UiFsk43md',\n",
       "   '4EA7pmo1l7z5vKNsAUW2T7',\n",
       "   '0VL2zZ9Tt10nHFhG7Ks0n0',\n",
       "   '0YjhDXwVS4Bp6LnbiAccWB'],\n",
       "  'songs_played': ['Il à chante',\n",
       "   'Candide, Act I: Finale',\n",
       "   'Jos sä rakastat mua',\n",
       "   'Wien Ohne Wiener',\n",
       "   'Yo Quiero Tus Besos - Remasterizado',\n",
       "   'Oh Come All Ye Faithful',\n",
       "   '美好',\n",
       "   '扭腰狂',\n",
       "   'Claus',\n",
       "   'Does It Feel Good',\n",
       "   'Song of a Baker - Stereo',\n",
       "   'Good Night My Dream [TOTY #10] [UpOnly 360] - Mix Cut',\n",
       "   'Kekasih Impian',\n",
       "   'Hvad Nu Hvis',\n",
       "   'Cuando Cante el Gallo Azul',\n",
       "   'Baharda Açan Güller',\n",
       "   '左邊',\n",
       "   'Jag är fri',\n",
       "   'ฝากใจไว้',\n",
       "   'シャングリラ',\n",
       "   'On A Clear Day',\n",
       "   'Broken vows',\n",
       "   'Tritsch-Tratsch Polka, Op. 214',\n",
       "   'Why Was I Born? - Rudy Van Gelder Remaster',\n",
       "   'Starless (live in Central Park) [Bonus Track]',\n",
       "   'How Long Has This Been Going On?',\n",
       "   'Llama In My Living Room',\n",
       "   'Bade, Tu Ești Pui De Drac',\n",
       "   'Love Help Me - Instrumental',\n",
       "   'Peter Grimes, Op.33 / Act 2: \"Swallow! Shall We Go\"',\n",
       "   '骨力走傱',\n",
       "   'Saudade vai-te embora',\n",
       "   'Melina',\n",
       "   '悲しみは雪のように(live / 2011)',\n",
       "   '悲傷的夢',\n",
       "   \"There Ain't No Good Chain Gang (with Waylon Jennings)\",\n",
       "   \"Drinkin' Wine Spodee-O-Dee\",\n",
       "   'อ้อนรัก',\n",
       "   'Já Neumírám S Modrou Planetou',\n",
       "   'אני אשיר לך שיר',\n",
       "   'Mix Edit 28',\n",
       "   'Muchacha (Ojos de papel)',\n",
       "   'Alive - Chris Lord-Alge Mix',\n",
       "   'Take It Slow',\n",
       "   'Malarkodipole',\n",
       "   'You Go to My Head',\n",
       "   'Jazz Party',\n",
       "   'Soft Emotion',\n",
       "   'Ég ætla að mála allan heiminn, elsku mamma',\n",
       "   '時の足音 - LIVE',\n",
       "   '始終會行運',\n",
       "   'Kach De Gilass',\n",
       "   'במסילה לבאר-שבע',\n",
       "   \"He Ain't Heavy He's My Brother\",\n",
       "   'Vuela Mariposa',\n",
       "   'Guerrilheiro',\n",
       "   'Welcome Back, Tom Sawyer',\n",
       "   'Mala Fama',\n",
       "   'Gembira Bersama Di Hari Raya',\n",
       "   'Feestje',\n",
       "   'Met De Trein Naar Oostende',\n",
       "   'Verfolgig im Wildwescht-Express',\n",
       "   'The Future Never Dies',\n",
       "   \"I'd Be A Fool Right Now\"],\n",
       "  'artist_songs_played': [\"['Édith Piaf']\",\n",
       "   \"['Robert Rounseville', 'Barbara Cook', 'William Olvis', 'Irra Petina', 'Max Adrian']\",\n",
       "   \"['Sig']\",\n",
       "   \"['Georg Kreisler']\",\n",
       "   \"['Francisco Canaro']\",\n",
       "   \"['Christmas 2019']\",\n",
       "   \"['Fang Wu']\",\n",
       "   \"['鄧寄塵', '李慧']\",\n",
       "   \"['Los Tres']\",\n",
       "   \"['B.T. Express']\",\n",
       "   \"['Small Faces']\",\n",
       "   \"['DreamLife', 'Aleksey Gunichev']\",\n",
       "   \"['Natta Reza']\",\n",
       "   \"['Alex', 'Nik & Jay']\",\n",
       "   \"['Larbanois & Carrero']\",\n",
       "   \"['Bekir Sıtkı Sezgin']\",\n",
       "   \"['Rainie Yang']\",\n",
       "   \"['Jon Henrik Fjällgren']\",\n",
       "   \"['Bird Thongchai']\",\n",
       "   \"['Chatmonchy']\",\n",
       "   \"['The Beautiful Girls']\",\n",
       "   '[\"Ted Daffan\\'s Texans\"]',\n",
       "   \"['Johann Strauss II', 'Andris Nelsons', 'Wiener Philharmoniker']\",\n",
       "   \"['Kenny Burrell', 'John Coltrane']\",\n",
       "   \"['King Crimson']\",\n",
       "   \"['Tommy Flanagan']\",\n",
       "   \"['AronChupa', 'Little Sis Nora']\",\n",
       "   \"['Feli']\",\n",
       "   \"['Deep Purple']\",\n",
       "   \"['Benjamin Britten', 'John Lanigan', 'Owen Brannigan', 'James Pease', 'Lauris Elms', 'Marion Studholme', 'Iris Kells', 'David Kelly', 'Geraint Evans', 'Raymond Nilsson', 'Chorus of the Royal Opera House, Covent Garden', 'Orchestra of the Royal Opera House, Covent Garden']\",\n",
       "   \"['Sorry Youth']\",\n",
       "   \"['Fernanda Maria']\",\n",
       "   \"['Camilo Sesto']\",\n",
       "   \"['Shogo Hamada']\",\n",
       "   \"['Dou Wei']\",\n",
       "   \"['Johnny Cash', 'Waylon Jennings']\",\n",
       "   \"['Malcolm Yelvington']\",\n",
       "   \"['Chatree']\",\n",
       "   \"['Žalman & spol.']\",\n",
       "   \"['Hatikva 6']\",\n",
       "   \"['Various Artists']\",\n",
       "   \"['Dyango']\",\n",
       "   \"['P.O.D.']\",\n",
       "   \"['Jüsan', 'Kidd Kold']\",\n",
       "   \"['S. Janaki']\",\n",
       "   \"['Mathilde Santing']\",\n",
       "   \"['Brigitte Bardot']\",\n",
       "   \"['Azoto']\",\n",
       "   \"['Söngfuglarnir']\",\n",
       "   \"['KOBUKURO']\",\n",
       "   \"['Leslie Cheung']\",\n",
       "   \"['Amar Singh Chamkila', 'Amarjot']\",\n",
       "   \"['The Dudaim']\",\n",
       "   \"['Roy Ayers Ubiquity']\",\n",
       "   \"['Los Yes Yes']\",\n",
       "   \"['Kussondulola']\",\n",
       "   \"['The Big Wu']\",\n",
       "   \"['Ases Falsos']\",\n",
       "   \"['Othman Hamzah']\",\n",
       "   \"['Woezel & Pip', 'Tante Perenboom', 'De Wijze Varen', 'Guusje Nederhorst', 'Koen Iking', 'Babette Van Veen', 'Willeke Alberti', 'Edwin Rutten']\",\n",
       "   \"['Spring']\",\n",
       "   \"['Globi']\",\n",
       "   \"['Scorpions']\",\n",
       "   \"['Stevie Wonder']\"],\n",
       "  'latitude': 20.79797,\n",
       "  'longitude': -55.355085,\n",
       "  'timezone': 'Etc/GMT+4',\n",
       "  'times_stopped': 9,\n",
       "  'skipped': 0,\n",
       "  'num_replay': 8,\n",
       "  'saved': 1,\n",
       "  'session_time_started': datetime.datetime(2011, 2, 20, 12, 35, 58),\n",
       "  'session_time_ended': datetime.datetime(2011, 2, 20, 16, 36, 57, 117000)}]"
      ]
     },
     "execution_count": 111,
     "metadata": {},
     "output_type": "execute_result"
    }
   ],
   "source": [
    "top_3_records_generated = records_ind[0:3]\n",
    "top_3_records_generated"
   ]
  },
  {
   "cell_type": "markdown",
   "id": "16d872f1-1c81-461f-adce-eedb24c9dfba",
   "metadata": {},
   "source": [
    "## Test Grounds"
   ]
  },
  {
   "cell_type": "code",
   "execution_count": 88,
   "id": "64c3662d-5907-4d89-a0f5-e4d327c20072",
   "metadata": {},
   "outputs": [
    {
     "data": {
      "text/plain": [
       "datetime.datetime"
      ]
     },
     "execution_count": 88,
     "metadata": {},
     "output_type": "execute_result"
    }
   ],
   "source": [
    "type(datetime(2024, 1, 1))\n"
   ]
  },
  {
   "cell_type": "code",
   "execution_count": 76,
   "id": "9c65c811-7358-416b-9f70-d26aec43e6ed",
   "metadata": {},
   "outputs": [
    {
     "data": {
      "text/plain": [
       "datetime.timedelta(seconds=10)"
      ]
     },
     "execution_count": 76,
     "metadata": {},
     "output_type": "execute_result"
    }
   ],
   "source": [
    "timedelta(milliseconds = 10000)"
   ]
  },
  {
   "cell_type": "code",
   "execution_count": 77,
   "id": "a5524ccc-0ebe-4d07-add6-f53a2c672561",
   "metadata": {},
   "outputs": [
    {
     "data": {
      "text/plain": [
       "datetime.datetime(2024, 2, 6, 15, 18, 33, 439982)"
      ]
     },
     "execution_count": 77,
     "metadata": {},
     "output_type": "execute_result"
    }
   ],
   "source": [
    "datetime.now() + timedelta(milliseconds = 10000)"
   ]
  },
  {
   "cell_type": "code",
   "execution_count": 96,
   "id": "3200783c-efb1-42dc-87e2-42779ca9769c",
   "metadata": {},
   "outputs": [
    {
     "data": {
      "text/plain": [
       "1707228018.981335"
      ]
     },
     "execution_count": 96,
     "metadata": {},
     "output_type": "execute_result"
    }
   ],
   "source": [
    "datetime.utcnow().timestamp()"
   ]
  },
  {
   "cell_type": "code",
   "execution_count": 100,
   "id": "c2960f46-49a5-419d-a25d-0b1f87c96e1b",
   "metadata": {},
   "outputs": [
    {
     "name": "stdout",
     "output_type": "stream",
     "text": [
      "None\n"
     ]
    }
   ],
   "source": [
    "print(datetime.now().tzinfo)"
   ]
  },
  {
   "cell_type": "code",
   "execution_count": 105,
   "id": "182b2194-d535-4237-87cd-894046d4f099",
   "metadata": {},
   "outputs": [
    {
     "data": {
      "text/plain": [
       "datetime.timezone.utc"
      ]
     },
     "execution_count": 105,
     "metadata": {},
     "output_type": "execute_result"
    }
   ],
   "source": [
    "timezone.utc"
   ]
  },
  {
   "cell_type": "code",
   "execution_count": 107,
   "id": "6f255fbb-65e7-4bc3-b261-6f776e629caf",
   "metadata": {},
   "outputs": [
    {
     "data": {
      "text/plain": [
       "['Africa/Abidjan', 'Africa/Accra', 'Africa/Addis_Ababa', 'Africa/Algiers', 'Africa/Asmara', 'Africa/Asmera', 'Africa/Bamako', 'Africa/Bangui', 'Africa/Banjul', 'Africa/Bissau', 'Africa/Blantyre', 'Africa/Brazzaville', 'Africa/Bujumbura', 'Africa/Cairo', 'Africa/Casablanca', 'Africa/Ceuta', 'Africa/Conakry', 'Africa/Dakar', 'Africa/Dar_es_Salaam', 'Africa/Djibouti', 'Africa/Douala', 'Africa/El_Aaiun', 'Africa/Freetown', 'Africa/Gaborone', 'Africa/Harare', 'Africa/Johannesburg', 'Africa/Juba', 'Africa/Kampala', 'Africa/Khartoum', 'Africa/Kigali', 'Africa/Kinshasa', 'Africa/Lagos', 'Africa/Libreville', 'Africa/Lome', 'Africa/Luanda', 'Africa/Lubumbashi', 'Africa/Lusaka', 'Africa/Malabo', 'Africa/Maputo', 'Africa/Maseru', 'Africa/Mbabane', 'Africa/Mogadishu', 'Africa/Monrovia', 'Africa/Nairobi', 'Africa/Ndjamena', 'Africa/Niamey', 'Africa/Nouakchott', 'Africa/Ouagadougou', 'Africa/Porto-Novo', 'Africa/Sao_Tome', 'Africa/Timbuktu', 'Africa/Tripoli', 'Africa/Tunis', 'Africa/Windhoek', 'America/Adak', 'America/Anchorage', 'America/Anguilla', 'America/Antigua', 'America/Araguaina', 'America/Argentina/Buenos_Aires', 'America/Argentina/Catamarca', 'America/Argentina/ComodRivadavia', 'America/Argentina/Cordoba', 'America/Argentina/Jujuy', 'America/Argentina/La_Rioja', 'America/Argentina/Mendoza', 'America/Argentina/Rio_Gallegos', 'America/Argentina/Salta', 'America/Argentina/San_Juan', 'America/Argentina/San_Luis', 'America/Argentina/Tucuman', 'America/Argentina/Ushuaia', 'America/Aruba', 'America/Asuncion', 'America/Atikokan', 'America/Atka', 'America/Bahia', 'America/Bahia_Banderas', 'America/Barbados', 'America/Belem', 'America/Belize', 'America/Blanc-Sablon', 'America/Boa_Vista', 'America/Bogota', 'America/Boise', 'America/Buenos_Aires', 'America/Cambridge_Bay', 'America/Campo_Grande', 'America/Cancun', 'America/Caracas', 'America/Catamarca', 'America/Cayenne', 'America/Cayman', 'America/Chicago', 'America/Chihuahua', 'America/Ciudad_Juarez', 'America/Coral_Harbour', 'America/Cordoba', 'America/Costa_Rica', 'America/Creston', 'America/Cuiaba', 'America/Curacao', 'America/Danmarkshavn', 'America/Dawson', 'America/Dawson_Creek', 'America/Denver', 'America/Detroit', 'America/Dominica', 'America/Edmonton', 'America/Eirunepe', 'America/El_Salvador', 'America/Ensenada', 'America/Fort_Nelson', 'America/Fort_Wayne', 'America/Fortaleza', 'America/Glace_Bay', 'America/Godthab', 'America/Goose_Bay', 'America/Grand_Turk', 'America/Grenada', 'America/Guadeloupe', 'America/Guatemala', 'America/Guayaquil', 'America/Guyana', 'America/Halifax', 'America/Havana', 'America/Hermosillo', 'America/Indiana/Indianapolis', 'America/Indiana/Knox', 'America/Indiana/Marengo', 'America/Indiana/Petersburg', 'America/Indiana/Tell_City', 'America/Indiana/Vevay', 'America/Indiana/Vincennes', 'America/Indiana/Winamac', 'America/Indianapolis', 'America/Inuvik', 'America/Iqaluit', 'America/Jamaica', 'America/Jujuy', 'America/Juneau', 'America/Kentucky/Louisville', 'America/Kentucky/Monticello', 'America/Knox_IN', 'America/Kralendijk', 'America/La_Paz', 'America/Lima', 'America/Los_Angeles', 'America/Louisville', 'America/Lower_Princes', 'America/Maceio', 'America/Managua', 'America/Manaus', 'America/Marigot', 'America/Martinique', 'America/Matamoros', 'America/Mazatlan', 'America/Mendoza', 'America/Menominee', 'America/Merida', 'America/Metlakatla', 'America/Mexico_City', 'America/Miquelon', 'America/Moncton', 'America/Monterrey', 'America/Montevideo', 'America/Montreal', 'America/Montserrat', 'America/Nassau', 'America/New_York', 'America/Nipigon', 'America/Nome', 'America/Noronha', 'America/North_Dakota/Beulah', 'America/North_Dakota/Center', 'America/North_Dakota/New_Salem', 'America/Nuuk', 'America/Ojinaga', 'America/Panama', 'America/Pangnirtung', 'America/Paramaribo', 'America/Phoenix', 'America/Port-au-Prince', 'America/Port_of_Spain', 'America/Porto_Acre', 'America/Porto_Velho', 'America/Puerto_Rico', 'America/Punta_Arenas', 'America/Rainy_River', 'America/Rankin_Inlet', 'America/Recife', 'America/Regina', 'America/Resolute', 'America/Rio_Branco', 'America/Rosario', 'America/Santa_Isabel', 'America/Santarem', 'America/Santiago', 'America/Santo_Domingo', 'America/Sao_Paulo', 'America/Scoresbysund', 'America/Shiprock', 'America/Sitka', 'America/St_Barthelemy', 'America/St_Johns', 'America/St_Kitts', 'America/St_Lucia', 'America/St_Thomas', 'America/St_Vincent', 'America/Swift_Current', 'America/Tegucigalpa', 'America/Thule', 'America/Thunder_Bay', 'America/Tijuana', 'America/Toronto', 'America/Tortola', 'America/Vancouver', 'America/Virgin', 'America/Whitehorse', 'America/Winnipeg', 'America/Yakutat', 'America/Yellowknife', 'Antarctica/Casey', 'Antarctica/Davis', 'Antarctica/DumontDUrville', 'Antarctica/Macquarie', 'Antarctica/Mawson', 'Antarctica/McMurdo', 'Antarctica/Palmer', 'Antarctica/Rothera', 'Antarctica/South_Pole', 'Antarctica/Syowa', 'Antarctica/Troll', 'Antarctica/Vostok', 'Arctic/Longyearbyen', 'Asia/Aden', 'Asia/Almaty', 'Asia/Amman', 'Asia/Anadyr', 'Asia/Aqtau', 'Asia/Aqtobe', 'Asia/Ashgabat', 'Asia/Ashkhabad', 'Asia/Atyrau', 'Asia/Baghdad', 'Asia/Bahrain', 'Asia/Baku', 'Asia/Bangkok', 'Asia/Barnaul', 'Asia/Beirut', 'Asia/Bishkek', 'Asia/Brunei', 'Asia/Calcutta', 'Asia/Chita', 'Asia/Choibalsan', 'Asia/Chongqing', 'Asia/Chungking', 'Asia/Colombo', 'Asia/Dacca', 'Asia/Damascus', 'Asia/Dhaka', 'Asia/Dili', 'Asia/Dubai', 'Asia/Dushanbe', 'Asia/Famagusta', 'Asia/Gaza', 'Asia/Harbin', 'Asia/Hebron', 'Asia/Ho_Chi_Minh', 'Asia/Hong_Kong', 'Asia/Hovd', 'Asia/Irkutsk', 'Asia/Istanbul', 'Asia/Jakarta', 'Asia/Jayapura', 'Asia/Jerusalem', 'Asia/Kabul', 'Asia/Kamchatka', 'Asia/Karachi', 'Asia/Kashgar', 'Asia/Kathmandu', 'Asia/Katmandu', 'Asia/Khandyga', 'Asia/Kolkata', 'Asia/Krasnoyarsk', 'Asia/Kuala_Lumpur', 'Asia/Kuching', 'Asia/Kuwait', 'Asia/Macao', 'Asia/Macau', 'Asia/Magadan', 'Asia/Makassar', 'Asia/Manila', 'Asia/Muscat', 'Asia/Nicosia', 'Asia/Novokuznetsk', 'Asia/Novosibirsk', 'Asia/Omsk', 'Asia/Oral', 'Asia/Phnom_Penh', 'Asia/Pontianak', 'Asia/Pyongyang', 'Asia/Qatar', 'Asia/Qostanay', 'Asia/Qyzylorda', 'Asia/Rangoon', 'Asia/Riyadh', 'Asia/Saigon', 'Asia/Sakhalin', 'Asia/Samarkand', 'Asia/Seoul', 'Asia/Shanghai', 'Asia/Singapore', 'Asia/Srednekolymsk', 'Asia/Taipei', 'Asia/Tashkent', 'Asia/Tbilisi', 'Asia/Tehran', 'Asia/Tel_Aviv', 'Asia/Thimbu', 'Asia/Thimphu', 'Asia/Tokyo', 'Asia/Tomsk', 'Asia/Ujung_Pandang', 'Asia/Ulaanbaatar', 'Asia/Ulan_Bator', 'Asia/Urumqi', 'Asia/Ust-Nera', 'Asia/Vientiane', 'Asia/Vladivostok', 'Asia/Yakutsk', 'Asia/Yangon', 'Asia/Yekaterinburg', 'Asia/Yerevan', 'Atlantic/Azores', 'Atlantic/Bermuda', 'Atlantic/Canary', 'Atlantic/Cape_Verde', 'Atlantic/Faeroe', 'Atlantic/Faroe', 'Atlantic/Jan_Mayen', 'Atlantic/Madeira', 'Atlantic/Reykjavik', 'Atlantic/South_Georgia', 'Atlantic/St_Helena', 'Atlantic/Stanley', 'Australia/ACT', 'Australia/Adelaide', 'Australia/Brisbane', 'Australia/Broken_Hill', 'Australia/Canberra', 'Australia/Currie', 'Australia/Darwin', 'Australia/Eucla', 'Australia/Hobart', 'Australia/LHI', 'Australia/Lindeman', 'Australia/Lord_Howe', 'Australia/Melbourne', 'Australia/NSW', 'Australia/North', 'Australia/Perth', 'Australia/Queensland', 'Australia/South', 'Australia/Sydney', 'Australia/Tasmania', 'Australia/Victoria', 'Australia/West', 'Australia/Yancowinna', 'Brazil/Acre', 'Brazil/DeNoronha', 'Brazil/East', 'Brazil/West', 'CET', 'CST6CDT', 'Canada/Atlantic', 'Canada/Central', 'Canada/Eastern', 'Canada/Mountain', 'Canada/Newfoundland', 'Canada/Pacific', 'Canada/Saskatchewan', 'Canada/Yukon', 'Chile/Continental', 'Chile/EasterIsland', 'Cuba', 'EET', 'EST', 'EST5EDT', 'Egypt', 'Eire', 'Etc/GMT', 'Etc/GMT+0', 'Etc/GMT+1', 'Etc/GMT+10', 'Etc/GMT+11', 'Etc/GMT+12', 'Etc/GMT+2', 'Etc/GMT+3', 'Etc/GMT+4', 'Etc/GMT+5', 'Etc/GMT+6', 'Etc/GMT+7', 'Etc/GMT+8', 'Etc/GMT+9', 'Etc/GMT-0', 'Etc/GMT-1', 'Etc/GMT-10', 'Etc/GMT-11', 'Etc/GMT-12', 'Etc/GMT-13', 'Etc/GMT-14', 'Etc/GMT-2', 'Etc/GMT-3', 'Etc/GMT-4', 'Etc/GMT-5', 'Etc/GMT-6', 'Etc/GMT-7', 'Etc/GMT-8', 'Etc/GMT-9', 'Etc/GMT0', 'Etc/Greenwich', 'Etc/UCT', 'Etc/UTC', 'Etc/Universal', 'Etc/Zulu', 'Europe/Amsterdam', 'Europe/Andorra', 'Europe/Astrakhan', 'Europe/Athens', 'Europe/Belfast', 'Europe/Belgrade', 'Europe/Berlin', 'Europe/Bratislava', 'Europe/Brussels', 'Europe/Bucharest', 'Europe/Budapest', 'Europe/Busingen', 'Europe/Chisinau', 'Europe/Copenhagen', 'Europe/Dublin', 'Europe/Gibraltar', 'Europe/Guernsey', 'Europe/Helsinki', 'Europe/Isle_of_Man', 'Europe/Istanbul', 'Europe/Jersey', 'Europe/Kaliningrad', 'Europe/Kiev', 'Europe/Kirov', 'Europe/Kyiv', 'Europe/Lisbon', 'Europe/Ljubljana', 'Europe/London', 'Europe/Luxembourg', 'Europe/Madrid', 'Europe/Malta', 'Europe/Mariehamn', 'Europe/Minsk', 'Europe/Monaco', 'Europe/Moscow', 'Europe/Nicosia', 'Europe/Oslo', 'Europe/Paris', 'Europe/Podgorica', 'Europe/Prague', 'Europe/Riga', 'Europe/Rome', 'Europe/Samara', 'Europe/San_Marino', 'Europe/Sarajevo', 'Europe/Saratov', 'Europe/Simferopol', 'Europe/Skopje', 'Europe/Sofia', 'Europe/Stockholm', 'Europe/Tallinn', 'Europe/Tirane', 'Europe/Tiraspol', 'Europe/Ulyanovsk', 'Europe/Uzhgorod', 'Europe/Vaduz', 'Europe/Vatican', 'Europe/Vienna', 'Europe/Vilnius', 'Europe/Volgograd', 'Europe/Warsaw', 'Europe/Zagreb', 'Europe/Zaporozhye', 'Europe/Zurich', 'GB', 'GB-Eire', 'GMT', 'GMT+0', 'GMT-0', 'GMT0', 'Greenwich', 'HST', 'Hongkong', 'Iceland', 'Indian/Antananarivo', 'Indian/Chagos', 'Indian/Christmas', 'Indian/Cocos', 'Indian/Comoro', 'Indian/Kerguelen', 'Indian/Mahe', 'Indian/Maldives', 'Indian/Mauritius', 'Indian/Mayotte', 'Indian/Reunion', 'Iran', 'Israel', 'Jamaica', 'Japan', 'Kwajalein', 'Libya', 'MET', 'MST', 'MST7MDT', 'Mexico/BajaNorte', 'Mexico/BajaSur', 'Mexico/General', 'NZ', 'NZ-CHAT', 'Navajo', 'PRC', 'PST8PDT', 'Pacific/Apia', 'Pacific/Auckland', 'Pacific/Bougainville', 'Pacific/Chatham', 'Pacific/Chuuk', 'Pacific/Easter', 'Pacific/Efate', 'Pacific/Enderbury', 'Pacific/Fakaofo', 'Pacific/Fiji', 'Pacific/Funafuti', 'Pacific/Galapagos', 'Pacific/Gambier', 'Pacific/Guadalcanal', 'Pacific/Guam', 'Pacific/Honolulu', 'Pacific/Johnston', 'Pacific/Kanton', 'Pacific/Kiritimati', 'Pacific/Kosrae', 'Pacific/Kwajalein', 'Pacific/Majuro', 'Pacific/Marquesas', 'Pacific/Midway', 'Pacific/Nauru', 'Pacific/Niue', 'Pacific/Norfolk', 'Pacific/Noumea', 'Pacific/Pago_Pago', 'Pacific/Palau', 'Pacific/Pitcairn', 'Pacific/Pohnpei', 'Pacific/Ponape', 'Pacific/Port_Moresby', 'Pacific/Rarotonga', 'Pacific/Saipan', 'Pacific/Samoa', 'Pacific/Tahiti', 'Pacific/Tarawa', 'Pacific/Tongatapu', 'Pacific/Truk', 'Pacific/Wake', 'Pacific/Wallis', 'Pacific/Yap', 'Poland', 'Portugal', 'ROC', 'ROK', 'Singapore', 'Turkey', 'UCT', 'US/Alaska', 'US/Aleutian', 'US/Arizona', 'US/Central', 'US/East-Indiana', 'US/Eastern', 'US/Hawaii', 'US/Indiana-Starke', 'US/Michigan', 'US/Mountain', 'US/Pacific', 'US/Samoa', 'UTC', 'Universal', 'W-SU', 'WET', 'Zulu']"
      ]
     },
     "execution_count": 107,
     "metadata": {},
     "output_type": "execute_result"
    }
   ],
   "source": [
    "import pytz\n",
    "pytz.all_timezones"
   ]
  },
  {
   "cell_type": "code",
   "execution_count": 108,
   "id": "4ce4e3bf-b3ea-4a4d-8927-cbe3d66bb53f",
   "metadata": {},
   "outputs": [],
   "source": [
    "from timezonefinder import TimezoneFinder"
   ]
  },
  {
   "cell_type": "code",
   "execution_count": 109,
   "id": "a4552b52-337a-4b71-86bc-0b8034ce4260",
   "metadata": {},
   "outputs": [
    {
     "data": {
      "text/plain": [
       "'Etc/GMT+4'"
      ]
     },
     "execution_count": 109,
     "metadata": {},
     "output_type": "execute_result"
    }
   ],
   "source": [
    "TimezoneFinder().timezone_at(lat=-56.9787885, lng=-61.932259)"
   ]
  },
  {
   "cell_type": "code",
   "execution_count": 116,
   "id": "7797246b-d92b-4300-83e3-43d00f621c52",
   "metadata": {},
   "outputs": [
    {
     "data": {
      "text/plain": [
       "\"['Maria Konopnicka']\""
      ]
     },
     "execution_count": 116,
     "metadata": {},
     "output_type": "execute_result"
    }
   ],
   "source": [
    "songs_spotify[\"artists\"].loc[i]"
   ]
  },
  {
   "cell_type": "code",
   "execution_count": 139,
   "id": "4b7d88a6-0d2e-471a-8471-0715ad9b9f0a",
   "metadata": {},
   "outputs": [
    {
     "data": {
      "text/plain": [
       "'2024-02-06T20:44:07'"
      ]
     },
     "execution_count": 139,
     "metadata": {},
     "output_type": "execute_result"
    }
   ],
   "source": [
    "datetime.utcnow().strftime(\"%Y-%m-%dT%H:%M:%S%z\")"
   ]
  },
  {
   "cell_type": "code",
   "execution_count": 143,
   "id": "41bf0250-b7f3-4ec7-8a76-ad557ee39bcd",
   "metadata": {},
   "outputs": [
    {
     "name": "stdout",
     "output_type": "stream",
     "text": [
      "The UTC offset for America/New_York is 19 hours.\n"
     ]
    }
   ],
   "source": [
    "# Timezone string\n",
    "timezone_str = 'America/New_York'\n",
    "\n",
    "# Get the timezone object\n",
    "timezone_obj = pytz.timezone(timezone_str)\n",
    "\n",
    "# Get the current UTC offset in hours\n",
    "utc_offset_hours = timezone_obj.utcoffset(datetime.now()).seconds\n",
    "utc_offset_hours = utc_offset_hours // 3600\n",
    "\n",
    "print(f\"The UTC offset for {timezone_str} is {utc_offset_hours} hours.\")"
   ]
  },
  {
   "cell_type": "code",
   "execution_count": 146,
   "id": "76970c86-6a70-4fc2-b233-c005a0a734c5",
   "metadata": {},
   "outputs": [
    {
     "name": "stdout",
     "output_type": "stream",
     "text": [
      "Formatted DateTime in Local Timezone :  2024:02:06T21:52:08+0100\n",
      "Formatted DateTime in UTC Timezone :  2024:02:06T20:52:08+0000\n"
     ]
    }
   ],
   "source": [
    "# Getting the local timezone\n",
    "localTimeZone = pytz.timezone('CET')\n",
    "# Getting the UTC timeZone\n",
    "utcTimeZone = datetime.now(pytz.utc)\n",
    "# format string\n",
    "format = '%Y:%m:%dT%H:%M:%S%z'\n",
    "# Convert the time to the local timezone\n",
    "local = utcTimeZone.astimezone(localTimeZone)\n",
    "# Getting formatted time using strftime() function\n",
    "print(\"Formatted DateTime in Local Timezone : \",local.strftime(format))\n",
    "print(\"Formatted DateTime in UTC Timezone : \",utcTimeZone.strftime(format))\n",
    "difference = int(local.strftime('%z'))\n",
    "difference2 = int(utcTimeZone.strftime('%z'))"
   ]
  },
  {
   "cell_type": "code",
   "execution_count": 152,
   "id": "69ebd97a-ba84-4aed-a6f7-265f7328c6ea",
   "metadata": {},
   "outputs": [
    {
     "data": {
      "text/plain": [
       "'2024:02:06T14:52:08-0600'"
      ]
     },
     "execution_count": 152,
     "metadata": {},
     "output_type": "execute_result"
    }
   ],
   "source": [
    "localTimeZone = pytz.timezone('Etc/GMT+6')\n",
    "local = utcTimeZone.astimezone(localTimeZone)\n",
    "local.strftime(format)"
   ]
  },
  {
   "cell_type": "code",
   "execution_count": 151,
   "id": "48246b3d-236b-4bcb-965b-b6e7fee34a88",
   "metadata": {},
   "outputs": [
    {
     "data": {
      "text/plain": [
       "'2024:02:06T16:02:43-0500'"
      ]
     },
     "execution_count": 151,
     "metadata": {},
     "output_type": "execute_result"
    }
   ],
   "source": [
    "ll = datetime.now().astimezone(localTimeZone)\n",
    "ll.strftime(format)"
   ]
  }
 ],
 "metadata": {
  "kernelspec": {
   "display_name": "Python 3 (ipykernel)",
   "language": "python",
   "name": "python3"
  },
  "language_info": {
   "codemirror_mode": {
    "name": "ipython",
    "version": 3
   },
   "file_extension": ".py",
   "mimetype": "text/x-python",
   "name": "python",
   "nbconvert_exporter": "python",
   "pygments_lexer": "ipython3",
   "version": "3.10.7"
  }
 },
 "nbformat": 4,
 "nbformat_minor": 5
}
